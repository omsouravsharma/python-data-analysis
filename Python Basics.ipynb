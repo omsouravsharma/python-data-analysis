{
 "cells": [
  {
   "cell_type": "markdown",
   "id": "dc5b5bb7",
   "metadata": {},
   "source": [
    "# Python Basic"
   ]
  },
  {
   "cell_type": "code",
   "execution_count": 17,
   "id": "0a602e86",
   "metadata": {},
   "outputs": [],
   "source": [
    "# To install the jupyter notebook use below command \n",
    "# conda install jupyter"
   ]
  },
  {
   "cell_type": "code",
   "execution_count": 18,
   "id": "012d407a",
   "metadata": {},
   "outputs": [],
   "source": [
    "#Python is an interpreter language. "
   ]
  },
  {
   "cell_type": "code",
   "execution_count": 19,
   "id": "8127bea3",
   "metadata": {},
   "outputs": [
    {
     "name": "stdout",
     "output_type": "stream",
     "text": [
      "Hello World! - This is python basic\n"
     ]
    }
   ],
   "source": [
    "print(\"Hello World! - This is python basic\")"
   ]
  },
  {
   "cell_type": "code",
   "execution_count": 20,
   "id": "acd54d0d",
   "metadata": {},
   "outputs": [
    {
     "data": {
      "text/plain": [
       "5"
      ]
     },
     "execution_count": 20,
     "metadata": {},
     "output_type": "execute_result"
    }
   ],
   "source": [
    "a = 5 \n",
    "a"
   ]
  },
  {
   "cell_type": "code",
   "execution_count": 24,
   "id": "eb993012",
   "metadata": {},
   "outputs": [],
   "source": [
    "#pip install numpy # Command to install numpy package"
   ]
  },
  {
   "cell_type": "code",
   "execution_count": 26,
   "id": "b226ce74",
   "metadata": {},
   "outputs": [
    {
     "data": {
      "text/plain": [
       "[-0.8245778578843584,\n",
       " -0.3278258271731491,\n",
       " -0.4194446160087973,\n",
       " 1.1275540559495443,\n",
       " -0.2458392996049733,\n",
       " 0.6426605684859141,\n",
       " -1.4142467134803822]"
      ]
     },
     "execution_count": 26,
     "metadata": {},
     "output_type": "execute_result"
    }
   ],
   "source": [
    "import numpy as np\n",
    "data = [np.random.standard_normal() for i in range(7)]\n",
    "data"
   ]
  },
  {
   "cell_type": "code",
   "execution_count": 28,
   "id": "3ce199b3",
   "metadata": {},
   "outputs": [],
   "source": [
    "# Running Jupyter notebook\n",
    "# Tab completion\n",
    "# Introspection"
   ]
  },
  {
   "cell_type": "code",
   "execution_count": 33,
   "id": "bb6c7741",
   "metadata": {},
   "outputs": [],
   "source": [
    "# Introspection\n",
    "# ?data\n",
    "# ?a\n",
    "\n",
    "def add_number(a,b):\n",
    "    \"\"\"\n",
    "    Add two number together\n",
    "    \n",
    "    Returns\n",
    "    ------\n",
    "    the_sum:type of arguments\n",
    "    \"\"\"\n",
    "    return a+b"
   ]
  },
  {
   "cell_type": "code",
   "execution_count": 37,
   "id": "eacbcf18",
   "metadata": {},
   "outputs": [],
   "source": [
    "# add_number?"
   ]
  },
  {
   "cell_type": "code",
   "execution_count": 39,
   "id": "2dd123c7",
   "metadata": {},
   "outputs": [],
   "source": [
    "#np.*load*?"
   ]
  },
  {
   "cell_type": "markdown",
   "id": "1cfa8d4f",
   "metadata": {},
   "source": [
    "## Langauge basic\n",
    "- Python uses the indentations not braces\n",
    "- Semicolon is not used to end the statement\n",
    "- Everthing is an object. \n",
    "- '#' is used for comments which will be ignored by the interpreter.\n",
    "- Variable and agrument passing. \n",
    "- Dynamic reference, strong type"
   ]
  },
  {
   "cell_type": "code",
   "execution_count": 41,
   "id": "f3073f2f",
   "metadata": {},
   "outputs": [
    {
     "name": "stdout",
     "output_type": "stream",
     "text": [
      "0\n",
      "1\n",
      "2\n",
      "3\n",
      "4\n",
      "5\n",
      "6\n"
     ]
    }
   ],
   "source": [
    "#Python uses the indentations not braces\n",
    "\n",
    "for i in range(7):\n",
    "    print(i)"
   ]
  },
  {
   "cell_type": "code",
   "execution_count": 44,
   "id": "2f8394b5",
   "metadata": {},
   "outputs": [
    {
     "name": "stdout",
     "output_type": "stream",
     "text": [
      "5\n",
      "4\n"
     ]
    }
   ],
   "source": [
    "#Semicolon is not used to end the statement\n",
    "a = 5; b=4\n",
    "print(a)\n",
    "print(b)"
   ]
  },
  {
   "cell_type": "code",
   "execution_count": 49,
   "id": "7a3571bf",
   "metadata": {},
   "outputs": [
    {
     "name": "stdout",
     "output_type": "stream",
     "text": [
      "[1, 2, 3]\n",
      "[1, 2, 3]\n",
      "-----------\n",
      "[1, 2, 3, 4]\n",
      "[1, 2, 3, 4]\n"
     ]
    }
   ],
   "source": [
    "#Variable and agrument passing.\n",
    "a = [1,2,3]\n",
    "print(a)\n",
    "b = a\n",
    "print(b)\n",
    "a.append(4)\n",
    "print('-----------')\n",
    "print(a)\n",
    "print(b)"
   ]
  },
  {
   "cell_type": "code",
   "execution_count": 50,
   "id": "c76c9f1d",
   "metadata": {},
   "outputs": [
    {
     "data": {
      "text/plain": [
       "int"
      ]
     },
     "execution_count": 50,
     "metadata": {},
     "output_type": "execute_result"
    }
   ],
   "source": [
    "# Dyanamic reference, strong type\n",
    "a = 5\n",
    "type(a)"
   ]
  },
  {
   "cell_type": "code",
   "execution_count": 52,
   "id": "29e7d0cb",
   "metadata": {},
   "outputs": [
    {
     "data": {
      "text/plain": [
       "str"
      ]
     },
     "execution_count": 52,
     "metadata": {},
     "output_type": "execute_result"
    }
   ],
   "source": [
    "a = \"foo\"\n",
    "type(a)"
   ]
  },
  {
   "cell_type": "code",
   "execution_count": 54,
   "id": "b57a44ec",
   "metadata": {},
   "outputs": [
    {
     "ename": "TypeError",
     "evalue": "can only concatenate str (not \"int\") to str",
     "output_type": "error",
     "traceback": [
      "\u001b[1;31m---------------------------------------------------------------------------\u001b[0m",
      "\u001b[1;31mTypeError\u001b[0m                                 Traceback (most recent call last)",
      "Cell \u001b[1;32mIn[54], line 1\u001b[0m\n\u001b[1;32m----> 1\u001b[0m \u001b[38;5;124;43m\"\u001b[39;49m\u001b[38;5;124;43m5\u001b[39;49m\u001b[38;5;124;43m\"\u001b[39;49m\u001b[43m \u001b[49m\u001b[38;5;241;43m+\u001b[39;49m\u001b[43m \u001b[49m\u001b[38;5;241;43m5\u001b[39;49m\n",
      "\u001b[1;31mTypeError\u001b[0m: can only concatenate str (not \"int\") to str"
     ]
    }
   ],
   "source": [
    "\"5\" + 5"
   ]
  },
  {
   "cell_type": "code",
   "execution_count": 55,
   "id": "89bce61a",
   "metadata": {},
   "outputs": [
    {
     "data": {
      "text/plain": [
       "2.25"
      ]
     },
     "execution_count": 55,
     "metadata": {},
     "output_type": "execute_result"
    }
   ],
   "source": [
    "a = 4.5; b = 2\n",
    "a/b"
   ]
  },
  {
   "cell_type": "code",
   "execution_count": 56,
   "id": "b8227d8b",
   "metadata": {},
   "outputs": [
    {
     "data": {
      "text/plain": [
       "False"
      ]
     },
     "execution_count": 56,
     "metadata": {},
     "output_type": "execute_result"
    }
   ],
   "source": [
    "# to check object is type of instance \n",
    "isinstance(a, int)"
   ]
  },
  {
   "cell_type": "code",
   "execution_count": 57,
   "id": "def43aea",
   "metadata": {},
   "outputs": [
    {
     "data": {
      "text/plain": [
       "True"
      ]
     },
     "execution_count": 57,
     "metadata": {},
     "output_type": "execute_result"
    }
   ],
   "source": [
    "isinstance(a, float)"
   ]
  },
  {
   "cell_type": "code",
   "execution_count": 58,
   "id": "c3e5db16",
   "metadata": {},
   "outputs": [
    {
     "ename": "SyntaxError",
     "evalue": "invalid syntax (2240935830.py, line 3)",
     "output_type": "error",
     "traceback": [
      "\u001b[1;36m  Cell \u001b[1;32mIn[58], line 3\u001b[1;36m\u001b[0m\n\u001b[1;33m    s.\u001b[0m\n\u001b[1;37m      ^\u001b[0m\n\u001b[1;31mSyntaxError\u001b[0m\u001b[1;31m:\u001b[0m invalid syntax\n"
     ]
    }
   ],
   "source": [
    "# attributes and method \n",
    "s = \"strin\"\n",
    "s."
   ]
  },
  {
   "cell_type": "code",
   "execution_count": 61,
   "id": "e8ef105e",
   "metadata": {},
   "outputs": [],
   "source": [
    "# To check if object is iterable \n",
    "def isiterable(obj):\n",
    "    try:\n",
    "        iter(obj)\n",
    "        return True\n",
    "    except TypeError:\n",
    "        return False"
   ]
  },
  {
   "cell_type": "code",
   "execution_count": 62,
   "id": "9ab53318",
   "metadata": {},
   "outputs": [
    {
     "data": {
      "text/plain": [
       "True"
      ]
     },
     "execution_count": 62,
     "metadata": {},
     "output_type": "execute_result"
    }
   ],
   "source": [
    "isiterable(\" a string\")"
   ]
  },
  {
   "cell_type": "code",
   "execution_count": 63,
   "id": "feb91778",
   "metadata": {},
   "outputs": [
    {
     "data": {
      "text/plain": [
       "True"
      ]
     },
     "execution_count": 63,
     "metadata": {},
     "output_type": "execute_result"
    }
   ],
   "source": [
    "isiterable([2.4,5,3,3])"
   ]
  },
  {
   "cell_type": "code",
   "execution_count": 64,
   "id": "4cbfd5fb",
   "metadata": {},
   "outputs": [
    {
     "data": {
      "text/plain": [
       "False"
      ]
     },
     "execution_count": 64,
     "metadata": {},
     "output_type": "execute_result"
    }
   ],
   "source": [
    "isiterable(4)"
   ]
  },
  {
   "cell_type": "code",
   "execution_count": 1,
   "id": "af962c7d",
   "metadata": {},
   "outputs": [
    {
     "data": {
      "text/plain": [
       "3.14"
      ]
     },
     "execution_count": 1,
     "metadata": {},
     "output_type": "execute_result"
    }
   ],
   "source": [
    "# Import \n",
    "\n",
    "import some_module as sm\n",
    "sm.PI\n"
   ]
  },
  {
   "cell_type": "code",
   "execution_count": 2,
   "id": "0fca50a5",
   "metadata": {},
   "outputs": [
    {
     "data": {
      "text/plain": [
       "8"
      ]
     },
     "execution_count": 2,
     "metadata": {},
     "output_type": "execute_result"
    }
   ],
   "source": [
    "sm.f(4)"
   ]
  },
  {
   "cell_type": "code",
   "execution_count": 3,
   "id": "b0c2bd0d",
   "metadata": {},
   "outputs": [
    {
     "data": {
      "text/plain": [
       "7"
      ]
     },
     "execution_count": 3,
     "metadata": {},
     "output_type": "execute_result"
    }
   ],
   "source": [
    "sm.g(3,4)"
   ]
  },
  {
   "cell_type": "code",
   "execution_count": 4,
   "id": "7552e5be",
   "metadata": {},
   "outputs": [
    {
     "data": {
      "text/plain": [
       "6"
      ]
     },
     "execution_count": 4,
     "metadata": {},
     "output_type": "execute_result"
    }
   ],
   "source": [
    "sm.f(3)"
   ]
  },
  {
   "cell_type": "code",
   "execution_count": 5,
   "id": "75767726",
   "metadata": {},
   "outputs": [
    {
     "data": {
      "text/plain": [
       "-4"
      ]
     },
     "execution_count": 5,
     "metadata": {},
     "output_type": "execute_result"
    }
   ],
   "source": [
    "# Arithmatic opertions\n",
    "5-9"
   ]
  },
  {
   "cell_type": "code",
   "execution_count": 7,
   "id": "8158bafa",
   "metadata": {},
   "outputs": [
    {
     "data": {
      "text/plain": [
       "['foo', 2, [4, 5]]"
      ]
     },
     "execution_count": 7,
     "metadata": {},
     "output_type": "execute_result"
    }
   ],
   "source": [
    "# Mutabel and immutable objects \n",
    "a_list = ['foo', 2, [4,5]]\n",
    "a_list"
   ]
  },
  {
   "cell_type": "code",
   "execution_count": 8,
   "id": "b0cc9756",
   "metadata": {},
   "outputs": [],
   "source": [
    "a_list[2] = (4,3)"
   ]
  },
  {
   "cell_type": "code",
   "execution_count": 11,
   "id": "e8c3ceac",
   "metadata": {},
   "outputs": [
    {
     "data": {
      "text/plain": [
       "['foo', 2, (4, 3)]"
      ]
     },
     "execution_count": 11,
     "metadata": {},
     "output_type": "execute_result"
    }
   ],
   "source": [
    "a_list"
   ]
  },
  {
   "cell_type": "code",
   "execution_count": 12,
   "id": "626c6afd",
   "metadata": {},
   "outputs": [
    {
     "ename": "TypeError",
     "evalue": "'str' object does not support item assignment",
     "output_type": "error",
     "traceback": [
      "\u001b[1;31m---------------------------------------------------------------------------\u001b[0m",
      "\u001b[1;31mTypeError\u001b[0m                                 Traceback (most recent call last)",
      "Cell \u001b[1;32mIn[12], line 2\u001b[0m\n\u001b[0;32m      1\u001b[0m s \u001b[38;5;241m=\u001b[39m \u001b[38;5;124m\"\u001b[39m\u001b[38;5;124mstring\u001b[39m\u001b[38;5;124m\"\u001b[39m\n\u001b[1;32m----> 2\u001b[0m \u001b[43ms\u001b[49m\u001b[43m[\u001b[49m\u001b[38;5;241;43m3\u001b[39;49m\u001b[43m]\u001b[49m\u001b[38;5;241m=\u001b[39m \u001b[38;5;241m3\u001b[39m\n",
      "\u001b[1;31mTypeError\u001b[0m: 'str' object does not support item assignment"
     ]
    }
   ],
   "source": [
    "s = \"string\"\n",
    "s[3]= 3"
   ]
  },
  {
   "cell_type": "code",
   "execution_count": 13,
   "id": "ad8151c1",
   "metadata": {},
   "outputs": [
    {
     "data": {
      "text/plain": [
       "(1, 3, (4, 3))"
      ]
     },
     "execution_count": 13,
     "metadata": {},
     "output_type": "execute_result"
    }
   ],
   "source": [
    "a_tuple = (1,3,(4,3))\n",
    "a_tuple"
   ]
  },
  {
   "cell_type": "code",
   "execution_count": 15,
   "id": "9a7ac342",
   "metadata": {},
   "outputs": [
    {
     "ename": "TypeError",
     "evalue": "'tuple' object does not support item assignment",
     "output_type": "error",
     "traceback": [
      "\u001b[1;31m---------------------------------------------------------------------------\u001b[0m",
      "\u001b[1;31mTypeError\u001b[0m                                 Traceback (most recent call last)",
      "Cell \u001b[1;32mIn[15], line 1\u001b[0m\n\u001b[1;32m----> 1\u001b[0m \u001b[43ma_tuple\u001b[49m\u001b[43m[\u001b[49m\u001b[38;5;241;43m2\u001b[39;49m\u001b[43m]\u001b[49m \u001b[38;5;241m=\u001b[39m \u001b[38;5;241m3\u001b[39m\n",
      "\u001b[1;31mTypeError\u001b[0m: 'tuple' object does not support item assignment"
     ]
    }
   ],
   "source": [
    "a_tuple[2] = 3"
   ]
  },
  {
   "cell_type": "code",
   "execution_count": 17,
   "id": "6bef6905",
   "metadata": {},
   "outputs": [
    {
     "data": {
      "text/plain": [
       "7731387434039409808891316007008612834085369601"
      ]
     },
     "execution_count": 17,
     "metadata": {},
     "output_type": "execute_result"
    }
   ],
   "source": [
    "# Numeric type \n",
    "ival = 544543\n",
    "ival**8"
   ]
  },
  {
   "cell_type": "code",
   "execution_count": 20,
   "id": "91d611bf",
   "metadata": {},
   "outputs": [
    {
     "data": {
      "text/plain": [
       "1.5"
      ]
     },
     "execution_count": 20,
     "metadata": {},
     "output_type": "execute_result"
    }
   ],
   "source": [
    "3/2"
   ]
  },
  {
   "cell_type": "code",
   "execution_count": 21,
   "id": "6d9630d8",
   "metadata": {},
   "outputs": [
    {
     "data": {
      "text/plain": [
       "1"
      ]
     },
     "execution_count": 21,
     "metadata": {},
     "output_type": "execute_result"
    }
   ],
   "source": [
    "3//2"
   ]
  },
  {
   "cell_type": "code",
   "execution_count": 23,
   "id": "2b14e922",
   "metadata": {},
   "outputs": [
    {
     "name": "stdout",
     "output_type": "stream",
     "text": [
      "sting\n",
      "sting 2\n"
     ]
    }
   ],
   "source": [
    "# String \n",
    "s = \"sting\"\n",
    "s2 = 'sting 2'\n",
    "print(s)\n",
    "print(s2)"
   ]
  },
  {
   "cell_type": "code",
   "execution_count": 25,
   "id": "a2b6cbf0",
   "metadata": {},
   "outputs": [],
   "source": [
    "c = \"\"\"\n",
    "This is a multi line \n",
    "string \n",
    "\"\"\""
   ]
  },
  {
   "cell_type": "code",
   "execution_count": 28,
   "id": "9e9bc0ba",
   "metadata": {},
   "outputs": [
    {
     "data": {
      "text/plain": [
       "3"
      ]
     },
     "execution_count": 28,
     "metadata": {},
     "output_type": "execute_result"
    }
   ],
   "source": [
    "c.count(\"\\n\")"
   ]
  },
  {
   "cell_type": "code",
   "execution_count": 31,
   "id": "8b8feff2",
   "metadata": {},
   "outputs": [
    {
     "name": "stdout",
     "output_type": "stream",
     "text": [
      "sting a \n",
      "sting longer \n",
      "sting a \n"
     ]
    }
   ],
   "source": [
    "a = \"sting a \"\n",
    "print(a)\n",
    "b = a.replace(\"a\", \"longer\")\n",
    "print(b)\n",
    "print(a)"
   ]
  },
  {
   "cell_type": "code",
   "execution_count": 33,
   "id": "e53781e7",
   "metadata": {},
   "outputs": [
    {
     "name": "stdout",
     "output_type": "stream",
     "text": [
      "5\n",
      "5\n"
     ]
    },
    {
     "data": {
      "text/plain": [
       "str"
      ]
     },
     "execution_count": 33,
     "metadata": {},
     "output_type": "execute_result"
    }
   ],
   "source": [
    "# to convert number to string\n",
    "a = 5\n",
    "print(a)\n",
    "s = str(a)\n",
    "print(s)\n",
    "type(s)"
   ]
  },
  {
   "cell_type": "code",
   "execution_count": 34,
   "id": "32d1987a",
   "metadata": {},
   "outputs": [
    {
     "data": {
      "text/plain": [
       "'r'"
      ]
     },
     "execution_count": 34,
     "metadata": {},
     "output_type": "execute_result"
    }
   ],
   "source": [
    "s = 'string'\n",
    "s[2]"
   ]
  },
  {
   "cell_type": "code",
   "execution_count": 35,
   "id": "7a6a3c06",
   "metadata": {},
   "outputs": [
    {
     "data": {
      "text/plain": [
       "['s', 't', 'r', 'i', 'n', 'g']"
      ]
     },
     "execution_count": 35,
     "metadata": {},
     "output_type": "execute_result"
    }
   ],
   "source": [
    "list(s)"
   ]
  },
  {
   "cell_type": "code",
   "execution_count": 38,
   "id": "0d93e11e",
   "metadata": {},
   "outputs": [
    {
     "name": "stdout",
     "output_type": "stream",
     "text": [
      "12\\34\n"
     ]
    }
   ],
   "source": [
    "# \\ escape character\n",
    "s = '12\\\\34'\n",
    "print(s)"
   ]
  },
  {
   "cell_type": "code",
   "execution_count": 41,
   "id": "21cc97e8",
   "metadata": {},
   "outputs": [
    {
     "name": "stdout",
     "output_type": "stream",
     "text": [
      "this\\has\n",
      "o\\special\\character\n"
     ]
    }
   ],
   "source": [
    "s = \"this\\has\\no\\special\\character\"\n",
    "print(s)"
   ]
  },
  {
   "cell_type": "code",
   "execution_count": 42,
   "id": "c43a7731",
   "metadata": {},
   "outputs": [
    {
     "name": "stdout",
     "output_type": "stream",
     "text": [
      "this\\has\\no\\special\\character\n"
     ]
    }
   ],
   "source": [
    "s = r\"this\\has\\no\\special\\character\"\n",
    "print(s)"
   ]
  },
  {
   "cell_type": "code",
   "execution_count": 46,
   "id": "14628af1",
   "metadata": {},
   "outputs": [
    {
     "data": {
      "text/plain": [
       "'82.00 INR are worth US$1'"
      ]
     },
     "execution_count": 46,
     "metadata": {},
     "output_type": "execute_result"
    }
   ],
   "source": [
    "# string format \n",
    "template = \"{0:.2f} {1:s} are worth US${2:d}\"\n",
    "template.format(82, \"INR\" , 1)"
   ]
  },
  {
   "cell_type": "code",
   "execution_count": 49,
   "id": "186fae40",
   "metadata": {},
   "outputs": [
    {
     "data": {
      "text/plain": [
       "'1200, INR is worth US$14.598540145985401'"
      ]
     },
     "execution_count": 49,
     "metadata": {},
     "output_type": "execute_result"
    }
   ],
   "source": [
    "amount = 1200\n",
    "currency = 'INR'\n",
    "\n",
    "f\"{amount}, {currency} is worth US${amount/82.2}\""
   ]
  },
  {
   "cell_type": "code",
   "execution_count": 50,
   "id": "bd02df45",
   "metadata": {},
   "outputs": [
    {
     "data": {
      "text/plain": [
       "True"
      ]
     },
     "execution_count": 50,
     "metadata": {},
     "output_type": "execute_result"
    }
   ],
   "source": [
    "# Boolean\n",
    "True and True"
   ]
  },
  {
   "cell_type": "code",
   "execution_count": 51,
   "id": "8ae6acbb",
   "metadata": {},
   "outputs": [
    {
     "data": {
      "text/plain": [
       "True"
      ]
     },
     "execution_count": 51,
     "metadata": {},
     "output_type": "execute_result"
    }
   ],
   "source": [
    "False or True"
   ]
  },
  {
   "cell_type": "code",
   "execution_count": 52,
   "id": "80e064dd",
   "metadata": {},
   "outputs": [
    {
     "data": {
      "text/plain": [
       "0"
      ]
     },
     "execution_count": 52,
     "metadata": {},
     "output_type": "execute_result"
    }
   ],
   "source": [
    "int(False)"
   ]
  },
  {
   "cell_type": "code",
   "execution_count": 53,
   "id": "61051d9a",
   "metadata": {},
   "outputs": [
    {
     "data": {
      "text/plain": [
       "1"
      ]
     },
     "execution_count": 53,
     "metadata": {},
     "output_type": "execute_result"
    }
   ],
   "source": [
    "int(True)"
   ]
  },
  {
   "cell_type": "code",
   "execution_count": 54,
   "id": "04a8c398",
   "metadata": {},
   "outputs": [
    {
     "data": {
      "text/plain": [
       "True"
      ]
     },
     "execution_count": 54,
     "metadata": {},
     "output_type": "execute_result"
    }
   ],
   "source": [
    "# None\n",
    "a = None\n",
    "a is None"
   ]
  },
  {
   "cell_type": "code",
   "execution_count": 55,
   "id": "d99a4395",
   "metadata": {},
   "outputs": [
    {
     "data": {
      "text/plain": [
       "False"
      ]
     },
     "execution_count": 55,
     "metadata": {},
     "output_type": "execute_result"
    }
   ],
   "source": [
    "b = 5\n",
    "b is None"
   ]
  },
  {
   "cell_type": "code",
   "execution_count": 60,
   "id": "15bf57f3",
   "metadata": {},
   "outputs": [],
   "source": [
    "def add_and_maybe_multiply(a, b, c= None):\n",
    "    result =  a + b\n",
    "    if c is not None:\n",
    "        result*=c\n",
    "    return result\n",
    "\n"
   ]
  },
  {
   "cell_type": "code",
   "execution_count": 61,
   "id": "4941d017",
   "metadata": {},
   "outputs": [
    {
     "data": {
      "text/plain": [
       "5"
      ]
     },
     "execution_count": 61,
     "metadata": {},
     "output_type": "execute_result"
    }
   ],
   "source": [
    "add_and_maybe_multiply(2,3)"
   ]
  },
  {
   "cell_type": "code",
   "execution_count": 62,
   "id": "ce37055a",
   "metadata": {},
   "outputs": [
    {
     "data": {
      "text/plain": [
       "14"
      ]
     },
     "execution_count": 62,
     "metadata": {},
     "output_type": "execute_result"
    }
   ],
   "source": [
    "add_and_maybe_multiply(3,4,2)"
   ]
  },
  {
   "cell_type": "code",
   "execution_count": 65,
   "id": "d62c8908",
   "metadata": {},
   "outputs": [
    {
     "data": {
      "text/plain": [
       "datetime.datetime(2013, 6, 3, 10, 15, 12)"
      ]
     },
     "execution_count": 65,
     "metadata": {},
     "output_type": "execute_result"
    }
   ],
   "source": [
    "# Date and Time\n",
    "\n",
    "from datetime import datetime, date, time\n",
    "\n",
    "dt = datetime(2013, 6,3, 10,15,12)\n",
    "dt"
   ]
  },
  {
   "cell_type": "code",
   "execution_count": 66,
   "id": "569f0a61",
   "metadata": {},
   "outputs": [
    {
     "data": {
      "text/plain": [
       "3"
      ]
     },
     "execution_count": 66,
     "metadata": {},
     "output_type": "execute_result"
    }
   ],
   "source": [
    "dt.day"
   ]
  },
  {
   "cell_type": "code",
   "execution_count": 67,
   "id": "68f4a9ac",
   "metadata": {},
   "outputs": [
    {
     "data": {
      "text/plain": [
       "datetime.date(2013, 6, 3)"
      ]
     },
     "execution_count": 67,
     "metadata": {},
     "output_type": "execute_result"
    }
   ],
   "source": [
    "dt.date()"
   ]
  },
  {
   "cell_type": "code",
   "execution_count": 68,
   "id": "82e74d5e",
   "metadata": {},
   "outputs": [
    {
     "data": {
      "text/plain": [
       "datetime.time(10, 15, 12)"
      ]
     },
     "execution_count": 68,
     "metadata": {},
     "output_type": "execute_result"
    }
   ],
   "source": [
    "dt.time()"
   ]
  },
  {
   "cell_type": "code",
   "execution_count": 70,
   "id": "2bb2686f",
   "metadata": {},
   "outputs": [
    {
     "data": {
      "text/plain": [
       "'2013-06-03'"
      ]
     },
     "execution_count": 70,
     "metadata": {},
     "output_type": "execute_result"
    }
   ],
   "source": [
    "# Method to convert date in string\n",
    "\n",
    "dt.strftime(\"%Y-%m-%d\")"
   ]
  },
  {
   "cell_type": "code",
   "execution_count": 73,
   "id": "9af2382a",
   "metadata": {},
   "outputs": [
    {
     "data": {
      "text/plain": [
       "datetime.datetime(2023, 6, 3, 0, 0)"
      ]
     },
     "execution_count": 73,
     "metadata": {},
     "output_type": "execute_result"
    }
   ],
   "source": [
    "# method to convert string into date\n",
    "dt.strptime('20230603', \"%Y%m%d\")"
   ]
  },
  {
   "cell_type": "code",
   "execution_count": 74,
   "id": "23a9588d",
   "metadata": {},
   "outputs": [
    {
     "data": {
      "text/plain": [
       "datetime.datetime(2013, 6, 3, 10, 15, 12)"
      ]
     },
     "execution_count": 74,
     "metadata": {},
     "output_type": "execute_result"
    }
   ],
   "source": [
    "dt\n"
   ]
  },
  {
   "cell_type": "code",
   "execution_count": 75,
   "id": "6f33023e",
   "metadata": {},
   "outputs": [],
   "source": [
    "dt2 = dt.strptime('20230603', \"%Y%m%d\")"
   ]
  },
  {
   "cell_type": "code",
   "execution_count": 77,
   "id": "7c369eb1",
   "metadata": {},
   "outputs": [
    {
     "data": {
      "text/plain": [
       "datetime.timedelta(days=3651, seconds=49488)"
      ]
     },
     "execution_count": 77,
     "metadata": {},
     "output_type": "execute_result"
    }
   ],
   "source": [
    "delta = dt2-dt\n",
    "delta"
   ]
  },
  {
   "cell_type": "code",
   "execution_count": 78,
   "id": "91c8f0bf",
   "metadata": {},
   "outputs": [
    {
     "data": {
      "text/plain": [
       "datetime.datetime(2023, 6, 3, 0, 0)"
      ]
     },
     "execution_count": 78,
     "metadata": {},
     "output_type": "execute_result"
    }
   ],
   "source": [
    "dt + delta"
   ]
  },
  {
   "cell_type": "code",
   "execution_count": 82,
   "id": "8c1873ad",
   "metadata": {},
   "outputs": [
    {
     "name": "stdout",
     "output_type": "stream",
     "text": [
      "Positive and larger than 5\n"
     ]
    }
   ],
   "source": [
    "# Control Flow\n",
    "# if elif, else\n",
    "\n",
    "x = 9\n",
    "if x <0:\n",
    "    print(\"Negative\")\n",
    "elif x ==0:\n",
    "    print(\"Zero\")\n",
    "elif 0<x<5:\n",
    "    print(\"positive but less than 5 \")\n",
    "else:\n",
    "    print(\"Positive and larger than 5\")"
   ]
  },
  {
   "cell_type": "code",
   "execution_count": 83,
   "id": "c728400a",
   "metadata": {},
   "outputs": [
    {
     "name": "stdout",
     "output_type": "stream",
     "text": [
      "1\n",
      "2\n",
      "None\n",
      "3\n",
      "6\n"
     ]
    }
   ],
   "source": [
    "# for loop\n",
    "# syntax for value in collection:\n",
    "    #do something\n",
    "    \n",
    "seq = [1,2,None, 3, 6]\n",
    "\n",
    "for value in seq:\n",
    "    print(value)"
   ]
  },
  {
   "cell_type": "code",
   "execution_count": 84,
   "id": "50adc687",
   "metadata": {},
   "outputs": [
    {
     "name": "stdout",
     "output_type": "stream",
     "text": [
      "12\n"
     ]
    }
   ],
   "source": [
    "# Continue\n",
    "total = 0\n",
    "for value in seq:\n",
    "    if value is None:\n",
    "        continue\n",
    "    total +=value\n",
    "print(total)"
   ]
  },
  {
   "cell_type": "code",
   "execution_count": 85,
   "id": "2d416dd0",
   "metadata": {},
   "outputs": [
    {
     "ename": "TypeError",
     "evalue": "unsupported operand type(s) for +=: 'int' and 'NoneType'",
     "output_type": "error",
     "traceback": [
      "\u001b[1;31m---------------------------------------------------------------------------\u001b[0m",
      "\u001b[1;31mTypeError\u001b[0m                                 Traceback (most recent call last)",
      "Cell \u001b[1;32mIn[85], line 3\u001b[0m\n\u001b[0;32m      1\u001b[0m total \u001b[38;5;241m=\u001b[39m \u001b[38;5;241m0\u001b[39m\n\u001b[0;32m      2\u001b[0m \u001b[38;5;28;01mfor\u001b[39;00m value \u001b[38;5;129;01min\u001b[39;00m seq:\n\u001b[1;32m----> 3\u001b[0m     total \u001b[38;5;241m+\u001b[39m\u001b[38;5;241m=\u001b[39mvalue\n\u001b[0;32m      4\u001b[0m \u001b[38;5;28mprint\u001b[39m(total)\n",
      "\u001b[1;31mTypeError\u001b[0m: unsupported operand type(s) for +=: 'int' and 'NoneType'"
     ]
    }
   ],
   "source": [
    "total = 0\n",
    "for value in seq:\n",
    "    total +=value\n",
    "print(total)"
   ]
  },
  {
   "cell_type": "code",
   "execution_count": 86,
   "id": "b5fe4492",
   "metadata": {},
   "outputs": [
    {
     "name": "stdout",
     "output_type": "stream",
     "text": [
      "0 0\n",
      "0 1\n",
      "0 2\n",
      "0 3\n",
      "1 0\n",
      "1 1\n",
      "1 2\n",
      "1 3\n",
      "2 0\n",
      "2 1\n",
      "2 2\n",
      "2 3\n",
      "3 0\n",
      "3 1\n",
      "3 2\n",
      "3 3\n"
     ]
    }
   ],
   "source": [
    "#break \n",
    "\n",
    "for i in range(4):\n",
    "    for j in range(4):\n",
    "        print(i,j)"
   ]
  },
  {
   "cell_type": "code",
   "execution_count": 87,
   "id": "272e7c77",
   "metadata": {},
   "outputs": [
    {
     "name": "stdout",
     "output_type": "stream",
     "text": [
      "0 0\n",
      "1 0\n",
      "1 1\n",
      "2 0\n",
      "2 1\n",
      "2 2\n",
      "3 0\n",
      "3 1\n",
      "3 2\n",
      "3 3\n"
     ]
    }
   ],
   "source": [
    "for i in range(4):\n",
    "    for j in range(4):\n",
    "        if j >i:\n",
    "            break\n",
    "        print(i,j)"
   ]
  },
  {
   "cell_type": "code",
   "execution_count": 91,
   "id": "58fc67cf",
   "metadata": {},
   "outputs": [
    {
     "name": "stdout",
     "output_type": "stream",
     "text": [
      "256\n",
      "256\n",
      "256\n",
      "512\n"
     ]
    }
   ],
   "source": [
    "# While loop = condition and block of code. \n",
    "x = 256\n",
    "total = 0 \n",
    "while x >0:\n",
    "    print(x)\n",
    "    if total > 500:\n",
    "        break\n",
    "    total +=x\n",
    "    x//2\n",
    "print(total)\n",
    "    "
   ]
  },
  {
   "cell_type": "code",
   "execution_count": 92,
   "id": "c0707b5e",
   "metadata": {},
   "outputs": [
    {
     "data": {
      "text/plain": [
       "range(0, 10)"
      ]
     },
     "execution_count": 92,
     "metadata": {},
     "output_type": "execute_result"
    }
   ],
   "source": [
    "# range = generate sequence of evenly spaced integer\n",
    "\n",
    "range(10)"
   ]
  },
  {
   "cell_type": "code",
   "execution_count": 93,
   "id": "6c47334f",
   "metadata": {},
   "outputs": [
    {
     "data": {
      "text/plain": [
       "[0, 1, 2, 3, 4, 5, 6, 7, 8, 9, 10, 11]"
      ]
     },
     "execution_count": 93,
     "metadata": {},
     "output_type": "execute_result"
    }
   ],
   "source": [
    "list(range(0,12))"
   ]
  },
  {
   "cell_type": "code",
   "execution_count": 95,
   "id": "35f7194b",
   "metadata": {},
   "outputs": [
    {
     "data": {
      "text/plain": [
       "[0, 4, 8, 12, 16]"
      ]
     },
     "execution_count": 95,
     "metadata": {},
     "output_type": "execute_result"
    }
   ],
   "source": [
    "list(range(0,20,4))"
   ]
  },
  {
   "cell_type": "code",
   "execution_count": 98,
   "id": "5d31fc85",
   "metadata": {},
   "outputs": [
    {
     "name": "stdout",
     "output_type": "stream",
     "text": [
      "2333316668\n"
     ]
    }
   ],
   "source": [
    "# add number 0 to 99999 with multiple of 3 & 5\n",
    "total = 0\n",
    "for i in range(100_000):\n",
    "    if i%3==0 or i%5==0:\n",
    "        total +=i\n",
    "print(total)"
   ]
  },
  {
   "cell_type": "code",
   "execution_count": null,
   "id": "99795835",
   "metadata": {},
   "outputs": [],
   "source": []
  }
 ],
 "metadata": {
  "kernelspec": {
   "display_name": "Python 3 (ipykernel)",
   "language": "python",
   "name": "python3"
  },
  "language_info": {
   "codemirror_mode": {
    "name": "ipython",
    "version": 3
   },
   "file_extension": ".py",
   "mimetype": "text/x-python",
   "name": "python",
   "nbconvert_exporter": "python",
   "pygments_lexer": "ipython3",
   "version": "3.10.10"
  }
 },
 "nbformat": 4,
 "nbformat_minor": 5
}
