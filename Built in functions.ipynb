{
 "cells": [
  {
   "cell_type": "markdown",
   "id": "7688227a",
   "metadata": {},
   "source": [
    "## Built in sequence function"
   ]
  },
  {
   "cell_type": "code",
   "execution_count": 6,
   "id": "f9a590b8",
   "metadata": {},
   "outputs": [],
   "source": [
    "# numerate = Return sequence of (index, value) tuple"
   ]
  },
  {
   "cell_type": "code",
   "execution_count": 7,
   "id": "4ed44f95",
   "metadata": {},
   "outputs": [
    {
     "data": {
      "text/plain": [
       "[0, 4, 8, 12, 16, 20, 24, 28, 32, 36]"
      ]
     },
     "execution_count": 7,
     "metadata": {},
     "output_type": "execute_result"
    }
   ],
   "source": [
    "seq = list(range(0,40,4))\n",
    "seq"
   ]
  },
  {
   "cell_type": "code",
   "execution_count": 8,
   "id": "208ebf67",
   "metadata": {},
   "outputs": [
    {
     "name": "stdout",
     "output_type": "stream",
     "text": [
      "index = 0, value = 0\n",
      "index = 1, value = 4\n",
      "index = 2, value = 8\n",
      "index = 3, value = 12\n",
      "index = 4, value = 16\n",
      "index = 5, value = 20\n",
      "index = 6, value = 24\n",
      "index = 7, value = 28\n",
      "index = 8, value = 32\n",
      "index = 9, value = 36\n"
     ]
    }
   ],
   "source": [
    "for index, value in enumerate(seq):\n",
    "    print(f\"index = {index}, value = {value}\")"
   ]
  },
  {
   "cell_type": "code",
   "execution_count": 1,
   "id": "8e12d08f",
   "metadata": {},
   "outputs": [
    {
     "data": {
      "text/plain": [
       "['g', 'i', 'n', 'r', 's', 't']"
      ]
     },
     "execution_count": 1,
     "metadata": {},
     "output_type": "execute_result"
    }
   ],
   "source": [
    "# sorted - return new sorted list\n",
    "sorted('string')"
   ]
  },
  {
   "cell_type": "code",
   "execution_count": 7,
   "id": "ef857900",
   "metadata": {},
   "outputs": [
    {
     "data": {
      "text/plain": [
       "[('foo', 1), (' bar', 2), ('buzz', 3)]"
      ]
     },
     "execution_count": 7,
     "metadata": {},
     "output_type": "execute_result"
    }
   ],
   "source": [
    "# zip - pair the element as new tuple\n",
    "\n",
    "seq1 = [\"foo\", ' bar', 'buzz']\n",
    "seq2 = [1,2,3]\n",
    "zipped = zip(seq1, seq2)\n",
    "list(zipped)"
   ]
  },
  {
   "cell_type": "code",
   "execution_count": 8,
   "id": "9cdae56a",
   "metadata": {},
   "outputs": [
    {
     "data": {
      "text/plain": [
       "[('foo', 1, 'false'), (' bar', 2, 'true')]"
      ]
     },
     "execution_count": 8,
     "metadata": {},
     "output_type": "execute_result"
    }
   ],
   "source": [
    "seq3 = [\"false\", \"true\"]\n",
    "\n",
    "list(zip(seq1,seq2,seq3))"
   ]
  },
  {
   "cell_type": "code",
   "execution_count": 15,
   "id": "76a3b3b8",
   "metadata": {},
   "outputs": [
    {
     "name": "stdout",
     "output_type": "stream",
     "text": [
      "index 0: value is foo and 1\n",
      "index 1: value is  bar and 2\n",
      "index 2: value is buzz and 3\n"
     ]
    }
   ],
   "source": [
    "for index, (a,b) in enumerate(zip(seq1, seq2)):\n",
    "    print(f\"index {index}: value is {a} and {b}\")"
   ]
  },
  {
   "cell_type": "code",
   "execution_count": 17,
   "id": "03add86d",
   "metadata": {},
   "outputs": [
    {
     "data": {
      "text/plain": [
       "[9, 8, 7, 6, 5, 4, 3, 2, 1, 0]"
      ]
     },
     "execution_count": 17,
     "metadata": {},
     "output_type": "execute_result"
    }
   ],
   "source": [
    "# reversed \n",
    "\n",
    "list(reversed(range(0,10)))"
   ]
  },
  {
   "cell_type": "markdown",
   "id": "d15f8c87",
   "metadata": {},
   "source": [
    "## List, Set and Dictionary comprehension"
   ]
  },
  {
   "cell_type": "code",
   "execution_count": 18,
   "id": "ee4d489b",
   "metadata": {},
   "outputs": [
    {
     "data": {
      "text/plain": [
       "[0,\n",
       " 10,\n",
       " 20,\n",
       " 30,\n",
       " 40,\n",
       " 50,\n",
       " 60,\n",
       " 70,\n",
       " 80,\n",
       " 90,\n",
       " 100,\n",
       " 110,\n",
       " 120,\n",
       " 130,\n",
       " 140,\n",
       " 150,\n",
       " 160,\n",
       " 170,\n",
       " 180,\n",
       " 190]"
      ]
     },
     "execution_count": 18,
     "metadata": {},
     "output_type": "execute_result"
    }
   ],
   "source": [
    "# syntax [expr for value in collection if condition]\n",
    "\n",
    "[x*2 for x in range(0,100) if x%5==0]"
   ]
  },
  {
   "cell_type": "code",
   "execution_count": 19,
   "id": "24abe2af",
   "metadata": {},
   "outputs": [
    {
     "data": {
      "text/plain": [
       "['BAT', 'CAR', 'DOVE', 'PYTHON']"
      ]
     },
     "execution_count": 19,
     "metadata": {},
     "output_type": "execute_result"
    }
   ],
   "source": [
    "strings = [\"a\", \"as\", \"bat\", \"car\", \"dove\", \"python\"]\n",
    "\n",
    "[value.upper() for value in strings if len(value) >2]"
   ]
  },
  {
   "cell_type": "code",
   "execution_count": 24,
   "id": "88c0d445",
   "metadata": {},
   "outputs": [
    {
     "data": {
      "text/plain": [
       "{0: 4, 2: 8, 4: 12, 6: 16, 8: 20}"
      ]
     },
     "execution_count": 24,
     "metadata": {},
     "output_type": "execute_result"
    }
   ],
   "source": [
    "# dictionary comprehension - syntax\n",
    "# {key-expr: value-expr for key value in collection if condition}\n",
    "\n",
    "{key:value*2 for key, value in enumerate(range(2,11)) if key%2==0 }"
   ]
  },
  {
   "cell_type": "code",
   "execution_count": 33,
   "id": "21bb78c3",
   "metadata": {},
   "outputs": [
    {
     "data": {
      "text/plain": [
       "{0: 'a', 1: 'as', 2: 'bat', 3: 'car', 4: 'dove', 5: 'python'}"
      ]
     },
     "execution_count": 33,
     "metadata": {},
     "output_type": "execute_result"
    }
   ],
   "source": [
    "{key:value for key, value in enumerate(strings)}"
   ]
  },
  {
   "cell_type": "code",
   "execution_count": 27,
   "id": "8574234e",
   "metadata": {},
   "outputs": [
    {
     "data": {
      "text/plain": [
       "{1, 2, 3, 4, 6}"
      ]
     },
     "execution_count": 27,
     "metadata": {},
     "output_type": "execute_result"
    }
   ],
   "source": [
    "# set comprehension - syntax\n",
    "#{ expr for value in collection if condition}\n",
    "\n",
    "unique_length = {len(value) for value in strings }\n",
    "unique_length\n"
   ]
  },
  {
   "cell_type": "code",
   "execution_count": 32,
   "id": "1a616cff",
   "metadata": {},
   "outputs": [
    {
     "data": {
      "text/plain": [
       "{1, 2, 3, 4, 6}"
      ]
     },
     "execution_count": 32,
     "metadata": {},
     "output_type": "execute_result"
    }
   ],
   "source": [
    "# other way \n",
    "\n",
    "set(map(len, strings))"
   ]
  },
  {
   "cell_type": "code",
   "execution_count": 35,
   "id": "144c97df",
   "metadata": {},
   "outputs": [
    {
     "data": {
      "text/plain": [
       "['Maria', 'Natalia']"
      ]
     },
     "execution_count": 35,
     "metadata": {},
     "output_type": "execute_result"
    }
   ],
   "source": [
    "# Nested list comprehensions\n",
    "# Q - chek name which has more than 2 'a'\n",
    "\n",
    "all_data = [[\"John\", \"Emily\", \"Michael\", \"Mary\", \"Steven\"],\n",
    "            [\"Maria\", \"Juan\", \"Javier\", \"Natalia\", \"Pilar\"]]\n",
    "\n",
    "[x for value in all_data for x in value if x.count('a')>=2]"
   ]
  },
  {
   "cell_type": "markdown",
   "id": "2fdceaba",
   "metadata": {},
   "source": [
    "## Functions "
   ]
  },
  {
   "cell_type": "code",
   "execution_count": 37,
   "id": "87aa8ebf",
   "metadata": {},
   "outputs": [
    {
     "data": {
      "text/plain": [
       "7"
      ]
     },
     "execution_count": 37,
     "metadata": {},
     "output_type": "execute_result"
    }
   ],
   "source": [
    "def my_function(a,b):\n",
    "    return a + b\n",
    "my_function(3,4)"
   ]
  },
  {
   "cell_type": "code",
   "execution_count": 40,
   "id": "f716ccb0",
   "metadata": {},
   "outputs": [
    {
     "data": {
      "text/plain": [
       "7"
      ]
     },
     "execution_count": 40,
     "metadata": {},
     "output_type": "execute_result"
    }
   ],
   "source": [
    "# positional and Keyword arguments; Key word should be places after positional argument\n",
    "def my_function(a,b=3):\n",
    "    return a + b\n",
    "my_function(4)"
   ]
  },
  {
   "cell_type": "code",
   "execution_count": 50,
   "id": "777ff8ed",
   "metadata": {},
   "outputs": [
    {
     "data": {
      "text/plain": [
       "[0, 1, 2, 3, 4]"
      ]
     },
     "execution_count": 50,
     "metadata": {},
     "output_type": "execute_result"
    }
   ],
   "source": [
    "# Namespace, scope and local function\n",
    "\n",
    "def func():\n",
    "    aa = []\n",
    "    for x in range(5):\n",
    "        aa.append(x)\n",
    "    return aa\n",
    "func()"
   ]
  },
  {
   "cell_type": "code",
   "execution_count": 51,
   "id": "5db39df8",
   "metadata": {},
   "outputs": [
    {
     "ename": "NameError",
     "evalue": "name 'aa' is not defined",
     "output_type": "error",
     "traceback": [
      "\u001b[1;31m---------------------------------------------------------------------------\u001b[0m",
      "\u001b[1;31mNameError\u001b[0m                                 Traceback (most recent call last)",
      "Cell \u001b[1;32mIn[51], line 1\u001b[0m\n\u001b[1;32m----> 1\u001b[0m \u001b[43maa\u001b[49m\n",
      "\u001b[1;31mNameError\u001b[0m: name 'aa' is not defined"
     ]
    }
   ],
   "source": [
    "aa # local"
   ]
  },
  {
   "cell_type": "code",
   "execution_count": 52,
   "id": "17388e81",
   "metadata": {},
   "outputs": [
    {
     "data": {
      "text/plain": [
       "[0, 1, 2, 3, 4]"
      ]
     },
     "execution_count": 52,
     "metadata": {},
     "output_type": "execute_result"
    }
   ],
   "source": [
    "aa = []\n",
    "def func():\n",
    "    for x in range(5):\n",
    "        aa.append(x)\n",
    "    return aa\n",
    "func()"
   ]
  },
  {
   "cell_type": "code",
   "execution_count": 53,
   "id": "8ca02619",
   "metadata": {},
   "outputs": [
    {
     "data": {
      "text/plain": [
       "[0, 1, 2, 3, 4]"
      ]
     },
     "execution_count": 53,
     "metadata": {},
     "output_type": "execute_result"
    }
   ],
   "source": [
    "aa"
   ]
  },
  {
   "cell_type": "code",
   "execution_count": 55,
   "id": "1adf58f6",
   "metadata": {},
   "outputs": [
    {
     "data": {
      "text/plain": [
       "(1, 2, 3)"
      ]
     },
     "execution_count": 55,
     "metadata": {},
     "output_type": "execute_result"
    }
   ],
   "source": [
    "# return multiple values \n",
    "def f():\n",
    "    a,b,c =1,2,3\n",
    "    return a,b,c\n",
    "f()"
   ]
  },
  {
   "cell_type": "code",
   "execution_count": 68,
   "id": "c359c03b",
   "metadata": {},
   "outputs": [
    {
     "data": {
      "text/plain": [
       "['Alabama',\n",
       " 'Georgia',\n",
       " 'Georgia',\n",
       " 'Georgia',\n",
       " 'Florida',\n",
       " 'South Carolina',\n",
       " 'West Virginia']"
      ]
     },
     "execution_count": 68,
     "metadata": {},
     "output_type": "execute_result"
    }
   ],
   "source": [
    "# functions are objects \n",
    "\n",
    "states = [\" Alabama \", \"Georgia!\", \"Georgia\", \"georgia\", \"FlOrIda\",\n",
    "          \"south carolina##\", \"West virginia?\"]\n",
    "\n",
    "import re\n",
    "def clean_string(strings):\n",
    "    result = []\n",
    "    for value in strings:\n",
    "        #print(value)\n",
    "        value = value.strip()\n",
    "        value = re.sub(\"[!#?]\", \"\", value)\n",
    "        value = value.title()\n",
    "        result.append(value)\n",
    "        #print(result)\n",
    "        \n",
    "    return result\n",
    "clean_string(states)"
   ]
  },
  {
   "cell_type": "code",
   "execution_count": 74,
   "id": "223788f6",
   "metadata": {},
   "outputs": [
    {
     "data": {
      "text/plain": [
       "[0, 2, 4, 6, 8]"
      ]
     },
     "execution_count": 74,
     "metadata": {},
     "output_type": "execute_result"
    }
   ],
   "source": [
    "# Lambda functions\n",
    "list1 = list(range(5))\n",
    "def func1 (list1, f):\n",
    "    return [f(x) for x in list1]\n",
    "    \n",
    "func1(list1,lambda x:x*2)\n"
   ]
  },
  {
   "cell_type": "code",
   "execution_count": null,
   "id": "a80bd887",
   "metadata": {},
   "outputs": [],
   "source": [
    "## generators "
   ]
  }
 ],
 "metadata": {
  "kernelspec": {
   "display_name": "Python 3 (ipykernel)",
   "language": "python",
   "name": "python3"
  },
  "language_info": {
   "codemirror_mode": {
    "name": "ipython",
    "version": 3
   },
   "file_extension": ".py",
   "mimetype": "text/x-python",
   "name": "python",
   "nbconvert_exporter": "python",
   "pygments_lexer": "ipython3",
   "version": "3.10.10"
  }
 },
 "nbformat": 4,
 "nbformat_minor": 5
}
