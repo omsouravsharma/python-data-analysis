{
 "cells": [
  {
   "cell_type": "markdown",
   "id": "98283399",
   "metadata": {},
   "source": [
    "## Time Series"
   ]
  },
  {
   "cell_type": "code",
   "execution_count": 11,
   "id": "7670ba7f",
   "metadata": {},
   "outputs": [],
   "source": [
    "# load libraries \n",
    "import numpy as np\n",
    "import pandas as pd\n",
    "from datetime import datetime, timedelta"
   ]
  },
  {
   "cell_type": "code",
   "execution_count": 13,
   "id": "729ba521",
   "metadata": {},
   "outputs": [
    {
     "data": {
      "text/plain": [
       "datetime.datetime(2023, 6, 29, 1, 24, 40, 803956)"
      ]
     },
     "execution_count": 13,
     "metadata": {},
     "output_type": "execute_result"
    }
   ],
   "source": [
    "now = datetime.now()\n",
    "now"
   ]
  },
  {
   "cell_type": "code",
   "execution_count": 14,
   "id": "ce000f66",
   "metadata": {},
   "outputs": [
    {
     "data": {
      "text/plain": [
       "(2023, 6, 29)"
      ]
     },
     "execution_count": 14,
     "metadata": {},
     "output_type": "execute_result"
    }
   ],
   "source": [
    "now.year, now.month, now.day"
   ]
  },
  {
   "cell_type": "code",
   "execution_count": 15,
   "id": "0154e05c",
   "metadata": {},
   "outputs": [
    {
     "data": {
      "text/plain": [
       "datetime.timedelta(days=926, seconds=56700)"
      ]
     },
     "execution_count": 15,
     "metadata": {},
     "output_type": "execute_result"
    }
   ],
   "source": [
    "delta = datetime(2011,1,7)- datetime(2008,6,24,8,15)\n",
    "delta"
   ]
  },
  {
   "cell_type": "code",
   "execution_count": 16,
   "id": "051bf196",
   "metadata": {},
   "outputs": [
    {
     "data": {
      "text/plain": [
       "926"
      ]
     },
     "execution_count": 16,
     "metadata": {},
     "output_type": "execute_result"
    }
   ],
   "source": [
    "delta.days"
   ]
  },
  {
   "cell_type": "code",
   "execution_count": 17,
   "id": "eb172152",
   "metadata": {},
   "outputs": [
    {
     "data": {
      "text/plain": [
       "56700"
      ]
     },
     "execution_count": 17,
     "metadata": {},
     "output_type": "execute_result"
    }
   ],
   "source": [
    "delta.seconds"
   ]
  },
  {
   "cell_type": "code",
   "execution_count": 20,
   "id": "e1c11b12",
   "metadata": {},
   "outputs": [],
   "source": [
    "start = datetime(2023,1,7)"
   ]
  },
  {
   "cell_type": "code",
   "execution_count": 21,
   "id": "12af6e61",
   "metadata": {},
   "outputs": [
    {
     "data": {
      "text/plain": [
       "datetime.datetime(2023, 1, 19, 0, 0)"
      ]
     },
     "execution_count": 21,
     "metadata": {},
     "output_type": "execute_result"
    }
   ],
   "source": [
    "start + timedelta(12)"
   ]
  },
  {
   "cell_type": "code",
   "execution_count": 22,
   "id": "d299e0f2",
   "metadata": {},
   "outputs": [
    {
     "data": {
      "text/plain": [
       "datetime.datetime(2022, 12, 14, 0, 0)"
      ]
     },
     "execution_count": 22,
     "metadata": {},
     "output_type": "execute_result"
    }
   ],
   "source": [
    "start - 2*timedelta(12)"
   ]
  },
  {
   "cell_type": "markdown",
   "id": "bde585c6",
   "metadata": {},
   "source": [
    "### Converting between String and Datetime"
   ]
  },
  {
   "cell_type": "code",
   "execution_count": 23,
   "id": "2f713551",
   "metadata": {},
   "outputs": [],
   "source": [
    "stamp = datetime(2023, 1,3)"
   ]
  },
  {
   "cell_type": "code",
   "execution_count": 24,
   "id": "647ae3d5",
   "metadata": {},
   "outputs": [
    {
     "data": {
      "text/plain": [
       "datetime.datetime(2023, 1, 3, 0, 0)"
      ]
     },
     "execution_count": 24,
     "metadata": {},
     "output_type": "execute_result"
    }
   ],
   "source": [
    "stamp"
   ]
  },
  {
   "cell_type": "code",
   "execution_count": 25,
   "id": "28b01b8d",
   "metadata": {},
   "outputs": [
    {
     "data": {
      "text/plain": [
       "'2023-01-03 00:00:00'"
      ]
     },
     "execution_count": 25,
     "metadata": {},
     "output_type": "execute_result"
    }
   ],
   "source": [
    "str(stamp)"
   ]
  },
  {
   "cell_type": "code",
   "execution_count": 28,
   "id": "0fb9bcc2",
   "metadata": {},
   "outputs": [
    {
     "data": {
      "text/plain": [
       "'2023-01-03'"
      ]
     },
     "execution_count": 28,
     "metadata": {},
     "output_type": "execute_result"
    }
   ],
   "source": [
    "stamp.strftime(\"%Y-%m-%d\")"
   ]
  },
  {
   "cell_type": "code",
   "execution_count": 29,
   "id": "cafb7eef",
   "metadata": {},
   "outputs": [],
   "source": [
    "value = \"2023-06-29\""
   ]
  },
  {
   "cell_type": "code",
   "execution_count": 32,
   "id": "0dda15cb",
   "metadata": {},
   "outputs": [
    {
     "data": {
      "text/plain": [
       "datetime.datetime(2023, 6, 29, 0, 0)"
      ]
     },
     "execution_count": 32,
     "metadata": {},
     "output_type": "execute_result"
    }
   ],
   "source": [
    "datetime.strptime(value, \"%Y-%m-%d\") #new datetime parsed from a string"
   ]
  },
  {
   "cell_type": "code",
   "execution_count": 40,
   "id": "e661ee03",
   "metadata": {},
   "outputs": [
    {
     "data": {
      "text/plain": [
       "[datetime.datetime(2011, 7, 6, 0, 0), datetime.datetime(2011, 8, 6, 0, 0)]"
      ]
     },
     "execution_count": 40,
     "metadata": {},
     "output_type": "execute_result"
    }
   ],
   "source": [
    "datestrs = [\"7/6/2011\", \"8/6/2011\"]\n",
    "\n",
    "[datetime.strptime(value, \"%m/%d/%Y\") for value in datestrs]"
   ]
  },
  {
   "cell_type": "code",
   "execution_count": 41,
   "id": "c736a16e",
   "metadata": {},
   "outputs": [
    {
     "data": {
      "text/plain": [
       "DatetimeIndex(['2011-07-06', '2011-08-06'], dtype='datetime64[ns]', freq=None)"
      ]
     },
     "execution_count": 41,
     "metadata": {},
     "output_type": "execute_result"
    }
   ],
   "source": [
    "datestrs = [\"7/6/2011\", \"8/6/2011\"]\n",
    "pd.to_datetime(datestrs)"
   ]
  },
  {
   "cell_type": "code",
   "execution_count": 44,
   "id": "ff004fc1",
   "metadata": {},
   "outputs": [
    {
     "data": {
      "text/plain": [
       "DatetimeIndex(['2011-07-06', '2011-08-06', 'NaT'], dtype='datetime64[ns]', freq=None)"
      ]
     },
     "execution_count": 44,
     "metadata": {},
     "output_type": "execute_result"
    }
   ],
   "source": [
    "idx = pd.to_datetime(datestrs + [None])\n",
    "idx"
   ]
  },
  {
   "cell_type": "code",
   "execution_count": 45,
   "id": "92b6a2fa",
   "metadata": {},
   "outputs": [
    {
     "data": {
      "text/plain": [
       "NaT"
      ]
     },
     "execution_count": 45,
     "metadata": {},
     "output_type": "execute_result"
    }
   ],
   "source": [
    "idx[2]"
   ]
  },
  {
   "cell_type": "markdown",
   "id": "6f00f948",
   "metadata": {},
   "source": [
    "### Time-Series Basic"
   ]
  },
  {
   "cell_type": "code",
   "execution_count": 46,
   "id": "ab5cdf0c",
   "metadata": {},
   "outputs": [
    {
     "data": {
      "text/plain": [
       "[datetime.datetime(2011, 1, 2, 0, 0),\n",
       " datetime.datetime(2011, 1, 5, 0, 0),\n",
       " datetime.datetime(2011, 1, 7, 0, 0),\n",
       " datetime.datetime(2011, 1, 8, 0, 0),\n",
       " datetime.datetime(2011, 1, 10, 0, 0),\n",
       " datetime.datetime(2011, 1, 12, 0, 0)]"
      ]
     },
     "execution_count": 46,
     "metadata": {},
     "output_type": "execute_result"
    }
   ],
   "source": [
    "dates = [datetime(2011, 1, 2), datetime(2011, 1, 5),\n",
    " ....: datetime(2011, 1, 7), datetime(2011, 1, 8),\n",
    " ....: datetime(2011, 1, 10), datetime(2011, 1, 12)]\n",
    "dates"
   ]
  },
  {
   "cell_type": "code",
   "execution_count": 49,
   "id": "1cc15a04",
   "metadata": {},
   "outputs": [
    {
     "data": {
      "text/plain": [
       "2011-01-02   -1.357745\n",
       "2011-01-05    0.142723\n",
       "2011-01-07    2.267965\n",
       "2011-01-08    0.311778\n",
       "2011-01-10   -0.997857\n",
       "2011-01-12   -0.050407\n",
       "dtype: float64"
      ]
     },
     "execution_count": 49,
     "metadata": {},
     "output_type": "execute_result"
    }
   ],
   "source": [
    "ts = pd.Series(np.random.standard_normal(6), index =dates)\n",
    "ts"
   ]
  },
  {
   "cell_type": "code",
   "execution_count": 50,
   "id": "1295676c",
   "metadata": {},
   "outputs": [
    {
     "data": {
      "text/plain": [
       "DatetimeIndex(['2011-01-02', '2011-01-05', '2011-01-07', '2011-01-08',\n",
       "               '2011-01-10', '2011-01-12'],\n",
       "              dtype='datetime64[ns]', freq=None)"
      ]
     },
     "execution_count": 50,
     "metadata": {},
     "output_type": "execute_result"
    }
   ],
   "source": [
    "ts.index"
   ]
  },
  {
   "cell_type": "code",
   "execution_count": 51,
   "id": "3dcdaf46",
   "metadata": {},
   "outputs": [
    {
     "data": {
      "text/plain": [
       "2011-01-02   -2.715489\n",
       "2011-01-05         NaN\n",
       "2011-01-07    4.535930\n",
       "2011-01-08         NaN\n",
       "2011-01-10   -1.995714\n",
       "2011-01-12         NaN\n",
       "dtype: float64"
      ]
     },
     "execution_count": 51,
     "metadata": {},
     "output_type": "execute_result"
    }
   ],
   "source": [
    "ts + ts[::2]"
   ]
  },
  {
   "cell_type": "code",
   "execution_count": 58,
   "id": "9ea8cb0f",
   "metadata": {},
   "outputs": [
    {
     "data": {
      "text/plain": [
       "dtype('<M8[ns]')"
      ]
     },
     "execution_count": 58,
     "metadata": {},
     "output_type": "execute_result"
    }
   ],
   "source": [
    "ts.index.dtype #NumPy’s datetime64"
   ]
  },
  {
   "cell_type": "markdown",
   "id": "986cfdc6",
   "metadata": {},
   "source": [
    "### Indexing, Selection, Subsettings"
   ]
  },
  {
   "cell_type": "code",
   "execution_count": 59,
   "id": "aef5a0a9",
   "metadata": {},
   "outputs": [
    {
     "data": {
      "text/plain": [
       "Timestamp('2011-01-07 00:00:00')"
      ]
     },
     "execution_count": 59,
     "metadata": {},
     "output_type": "execute_result"
    }
   ],
   "source": [
    "ts.index[2]"
   ]
  },
  {
   "cell_type": "code",
   "execution_count": 60,
   "id": "7932220e",
   "metadata": {},
   "outputs": [
    {
     "data": {
      "text/plain": [
       "-0.9978570673504686"
      ]
     },
     "execution_count": 60,
     "metadata": {},
     "output_type": "execute_result"
    }
   ],
   "source": [
    "ts[\"2011-01-10\"]"
   ]
  },
  {
   "cell_type": "code",
   "execution_count": 61,
   "id": "e03e525b",
   "metadata": {},
   "outputs": [],
   "source": [
    "longer_ts = pd.Series(np.random.standard_normal(1000), index = pd.date_range(\"2000-01-01\", periods=1000))"
   ]
  },
  {
   "cell_type": "code",
   "execution_count": 62,
   "id": "49993a5c",
   "metadata": {},
   "outputs": [
    {
     "data": {
      "text/plain": [
       "2000-01-01   -0.112731\n",
       "2000-01-02   -0.653682\n",
       "2000-01-03   -0.058202\n",
       "2000-01-04   -0.021748\n",
       "2000-01-05    0.372835\n",
       "                ...   \n",
       "2002-09-22    1.046399\n",
       "2002-09-23   -0.362620\n",
       "2002-09-24   -0.841764\n",
       "2002-09-25    0.125870\n",
       "2002-09-26    0.025683\n",
       "Freq: D, Length: 1000, dtype: float64"
      ]
     },
     "execution_count": 62,
     "metadata": {},
     "output_type": "execute_result"
    }
   ],
   "source": [
    "longer_ts"
   ]
  },
  {
   "cell_type": "code",
   "execution_count": 63,
   "id": "ea50980b",
   "metadata": {},
   "outputs": [
    {
     "data": {
      "text/plain": [
       "2001-01-01   -1.634389\n",
       "2001-01-02    1.275003\n",
       "2001-01-03    1.029380\n",
       "2001-01-04    1.288350\n",
       "2001-01-05   -0.664837\n",
       "                ...   \n",
       "2001-12-27    0.205826\n",
       "2001-12-28    2.220939\n",
       "2001-12-29   -0.519472\n",
       "2001-12-30    1.059385\n",
       "2001-12-31    2.458111\n",
       "Freq: D, Length: 365, dtype: float64"
      ]
     },
     "execution_count": 63,
     "metadata": {},
     "output_type": "execute_result"
    }
   ],
   "source": [
    "longer_ts[\"2001\"]"
   ]
  },
  {
   "cell_type": "code",
   "execution_count": 64,
   "id": "ddd71df6",
   "metadata": {},
   "outputs": [
    {
     "data": {
      "text/plain": [
       "2001-05-01    0.685375\n",
       "2001-05-02   -0.645267\n",
       "2001-05-03    1.397397\n",
       "2001-05-04    1.883294\n",
       "2001-05-05   -1.046883\n",
       "2001-05-06   -0.701430\n",
       "2001-05-07    0.118150\n",
       "2001-05-08    0.345700\n",
       "2001-05-09    0.140874\n",
       "2001-05-10    0.103442\n",
       "2001-05-11   -0.300821\n",
       "2001-05-12   -0.242030\n",
       "2001-05-13   -0.691137\n",
       "2001-05-14   -1.706737\n",
       "2001-05-15    0.906028\n",
       "2001-05-16   -0.166271\n",
       "2001-05-17    1.994723\n",
       "2001-05-18    1.130679\n",
       "2001-05-19   -1.482618\n",
       "2001-05-20   -1.053844\n",
       "2001-05-21   -1.044279\n",
       "2001-05-22    1.283421\n",
       "2001-05-23   -0.569837\n",
       "2001-05-24    1.265452\n",
       "2001-05-25    0.103334\n",
       "2001-05-26   -0.546556\n",
       "2001-05-27   -0.586430\n",
       "2001-05-28   -0.992749\n",
       "2001-05-29   -0.119333\n",
       "2001-05-30   -0.285248\n",
       "2001-05-31   -0.293836\n",
       "Freq: D, dtype: float64"
      ]
     },
     "execution_count": 64,
     "metadata": {},
     "output_type": "execute_result"
    }
   ],
   "source": [
    "longer_ts[\"2001-05\"]"
   ]
  },
  {
   "cell_type": "code",
   "execution_count": 65,
   "id": "64c277f8",
   "metadata": {},
   "outputs": [
    {
     "data": {
      "text/plain": [
       "2011-01-07    2.267965\n",
       "2011-01-08    0.311778\n",
       "2011-01-10   -0.997857\n",
       "2011-01-12   -0.050407\n",
       "dtype: float64"
      ]
     },
     "execution_count": 65,
     "metadata": {},
     "output_type": "execute_result"
    }
   ],
   "source": [
    "ts[datetime(2011,1,7):]"
   ]
  },
  {
   "cell_type": "code",
   "execution_count": 66,
   "id": "69952ed6",
   "metadata": {},
   "outputs": [
    {
     "data": {
      "text/plain": [
       "2011-01-07    2.267965\n",
       "2011-01-08    0.311778\n",
       "2011-01-10   -0.997857\n",
       "dtype: float64"
      ]
     },
     "execution_count": 66,
     "metadata": {},
     "output_type": "execute_result"
    }
   ],
   "source": [
    "ts[datetime(2011,1,7):datetime(2011,1,10)]"
   ]
  },
  {
   "cell_type": "code",
   "execution_count": null,
   "id": "0f0d4cf1",
   "metadata": {},
   "outputs": [],
   "source": []
  }
 ],
 "metadata": {
  "kernelspec": {
   "display_name": "Python 3 (ipykernel)",
   "language": "python",
   "name": "python3"
  },
  "language_info": {
   "codemirror_mode": {
    "name": "ipython",
    "version": 3
   },
   "file_extension": ".py",
   "mimetype": "text/x-python",
   "name": "python",
   "nbconvert_exporter": "python",
   "pygments_lexer": "ipython3",
   "version": "3.10.10"
  }
 },
 "nbformat": 4,
 "nbformat_minor": 5
}
