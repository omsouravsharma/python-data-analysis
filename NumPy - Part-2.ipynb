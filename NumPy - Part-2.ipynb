{
 "cells": [
  {
   "cell_type": "markdown",
   "id": "44f04dbe",
   "metadata": {},
   "source": [
    "## Array-Oriented Programming with Array"
   ]
  },
  {
   "cell_type": "code",
   "execution_count": 1,
   "id": "3a827470",
   "metadata": {},
   "outputs": [],
   "source": [
    "import numpy as np"
   ]
  },
  {
   "cell_type": "code",
   "execution_count": 2,
   "id": "bb5cee5e",
   "metadata": {},
   "outputs": [
    {
     "data": {
      "text/plain": [
       "array([-5.00000000e+00, -4.90000000e+00, -4.80000000e+00, -4.70000000e+00,\n",
       "       -4.60000000e+00, -4.50000000e+00, -4.40000000e+00, -4.30000000e+00,\n",
       "       -4.20000000e+00, -4.10000000e+00, -4.00000000e+00, -3.90000000e+00,\n",
       "       -3.80000000e+00, -3.70000000e+00, -3.60000000e+00, -3.50000000e+00,\n",
       "       -3.40000000e+00, -3.30000000e+00, -3.20000000e+00, -3.10000000e+00,\n",
       "       -3.00000000e+00, -2.90000000e+00, -2.80000000e+00, -2.70000000e+00,\n",
       "       -2.60000000e+00, -2.50000000e+00, -2.40000000e+00, -2.30000000e+00,\n",
       "       -2.20000000e+00, -2.10000000e+00, -2.00000000e+00, -1.90000000e+00,\n",
       "       -1.80000000e+00, -1.70000000e+00, -1.60000000e+00, -1.50000000e+00,\n",
       "       -1.40000000e+00, -1.30000000e+00, -1.20000000e+00, -1.10000000e+00,\n",
       "       -1.00000000e+00, -9.00000000e-01, -8.00000000e-01, -7.00000000e-01,\n",
       "       -6.00000000e-01, -5.00000000e-01, -4.00000000e-01, -3.00000000e-01,\n",
       "       -2.00000000e-01, -1.00000000e-01, -1.77635684e-14,  1.00000000e-01,\n",
       "        2.00000000e-01,  3.00000000e-01,  4.00000000e-01,  5.00000000e-01,\n",
       "        6.00000000e-01,  7.00000000e-01,  8.00000000e-01,  9.00000000e-01,\n",
       "        1.00000000e+00,  1.10000000e+00,  1.20000000e+00,  1.30000000e+00,\n",
       "        1.40000000e+00,  1.50000000e+00,  1.60000000e+00,  1.70000000e+00,\n",
       "        1.80000000e+00,  1.90000000e+00,  2.00000000e+00,  2.10000000e+00,\n",
       "        2.20000000e+00,  2.30000000e+00,  2.40000000e+00,  2.50000000e+00,\n",
       "        2.60000000e+00,  2.70000000e+00,  2.80000000e+00,  2.90000000e+00,\n",
       "        3.00000000e+00,  3.10000000e+00,  3.20000000e+00,  3.30000000e+00,\n",
       "        3.40000000e+00,  3.50000000e+00,  3.60000000e+00,  3.70000000e+00,\n",
       "        3.80000000e+00,  3.90000000e+00,  4.00000000e+00,  4.10000000e+00,\n",
       "        4.20000000e+00,  4.30000000e+00,  4.40000000e+00,  4.50000000e+00,\n",
       "        4.60000000e+00,  4.70000000e+00,  4.80000000e+00,  4.90000000e+00])"
      ]
     },
     "execution_count": 2,
     "metadata": {},
     "output_type": "execute_result"
    }
   ],
   "source": [
    "points = np.arange(-5,5,0.1)\n",
    "points"
   ]
  },
  {
   "cell_type": "code",
   "execution_count": 3,
   "id": "ad4f020e",
   "metadata": {},
   "outputs": [],
   "source": [
    "#meshgrid - Takes two dimensional array and produce pair\n",
    "xs, ys = np.meshgrid(points, points)"
   ]
  },
  {
   "cell_type": "code",
   "execution_count": 4,
   "id": "1ae085f5",
   "metadata": {},
   "outputs": [
    {
     "data": {
      "text/plain": [
       "array([[-5. , -5. , -5. , ..., -5. , -5. , -5. ],\n",
       "       [-4.9, -4.9, -4.9, ..., -4.9, -4.9, -4.9],\n",
       "       [-4.8, -4.8, -4.8, ..., -4.8, -4.8, -4.8],\n",
       "       ...,\n",
       "       [ 4.7,  4.7,  4.7, ...,  4.7,  4.7,  4.7],\n",
       "       [ 4.8,  4.8,  4.8, ...,  4.8,  4.8,  4.8],\n",
       "       [ 4.9,  4.9,  4.9, ...,  4.9,  4.9,  4.9]])"
      ]
     },
     "execution_count": 4,
     "metadata": {},
     "output_type": "execute_result"
    }
   ],
   "source": [
    "ys"
   ]
  },
  {
   "cell_type": "code",
   "execution_count": 5,
   "id": "28a31a4a",
   "metadata": {},
   "outputs": [
    {
     "data": {
      "text/plain": [
       "array([[-5. , -4.9, -4.8, ...,  4.7,  4.8,  4.9],\n",
       "       [-5. , -4.9, -4.8, ...,  4.7,  4.8,  4.9],\n",
       "       [-5. , -4.9, -4.8, ...,  4.7,  4.8,  4.9],\n",
       "       ...,\n",
       "       [-5. , -4.9, -4.8, ...,  4.7,  4.8,  4.9],\n",
       "       [-5. , -4.9, -4.8, ...,  4.7,  4.8,  4.9],\n",
       "       [-5. , -4.9, -4.8, ...,  4.7,  4.8,  4.9]])"
      ]
     },
     "execution_count": 5,
     "metadata": {},
     "output_type": "execute_result"
    }
   ],
   "source": [
    "xs"
   ]
  },
  {
   "cell_type": "code",
   "execution_count": 6,
   "id": "09597da7",
   "metadata": {},
   "outputs": [
    {
     "data": {
      "text/plain": [
       "array([[7.07106781, 7.00071425, 6.93108938, ..., 6.86221539, 6.93108938,\n",
       "        7.00071425],\n",
       "       [7.00071425, 6.92964646, 6.85930026, ..., 6.78969808, 6.85930026,\n",
       "        6.92964646],\n",
       "       [6.93108938, 6.85930026, 6.7882251 , ..., 6.71788657, 6.7882251 ,\n",
       "        6.85930026],\n",
       "       ...,\n",
       "       [6.86221539, 6.78969808, 6.71788657, ..., 6.64680374, 6.71788657,\n",
       "        6.78969808],\n",
       "       [6.93108938, 6.85930026, 6.7882251 , ..., 6.71788657, 6.7882251 ,\n",
       "        6.85930026],\n",
       "       [7.00071425, 6.92964646, 6.85930026, ..., 6.78969808, 6.85930026,\n",
       "        6.92964646]])"
      ]
     },
     "execution_count": 6,
     "metadata": {},
     "output_type": "execute_result"
    }
   ],
   "source": [
    "# Calcuate sqrt(x^2 + y^2)\n",
    "\n",
    "z = np.sqrt(xs**2+ ys**2)\n",
    "z"
   ]
  },
  {
   "cell_type": "code",
   "execution_count": 7,
   "id": "847005fb",
   "metadata": {},
   "outputs": [],
   "source": [
    "# pip install matplotlib - To install matplotlib"
   ]
  },
  {
   "cell_type": "code",
   "execution_count": 8,
   "id": "09f7a2ae",
   "metadata": {},
   "outputs": [
    {
     "data": {
      "text/plain": [
       "Text(0.5, 1.0, 'Image Plot for $\\\\sqrt{x^2 + y^2}$ for a grid of values')"
      ]
     },
     "execution_count": 8,
     "metadata": {},
     "output_type": "execute_result"
    },
    {
     "data": {
      "image/png": "[encoded data removed]",
      "text/plain": [
       "<Figure size 640x480 with 2 Axes>"
      ]
     },
     "metadata": {},
     "output_type": "display_data"
    }
   ],
   "source": [
    "# Plot\n",
    "import matplotlib.pyplot as plt\n",
    "plt.imshow(z, cmap=plt.cm.gray, extent = [-5,5,-5,5])\n",
    "plt.colorbar()\n",
    "plt.title(\"Image Plot for $\\sqrt{x^2 + y^2}$ for a grid of values\")"
   ]
  },
  {
   "cell_type": "markdown",
   "id": "58b3d4d8",
   "metadata": {},
   "source": [
    "## Expressing Conditional logic as Array Operations"
   ]
  },
  {
   "cell_type": "code",
   "execution_count": 11,
   "id": "1352d28a",
   "metadata": {},
   "outputs": [],
   "source": [
    "# np.where - conditional version of if condition else y\n",
    "xarr = np.array([1.1, 1.2, 1.3, 1.4, 1.5])\n",
    "yarr = np.array([2.1, 2.2, 2.3, 2.4, 2.5])\n",
    "cond = np.array([True, False, True, True, False])"
   ]
  },
  {
   "cell_type": "code",
   "execution_count": 12,
   "id": "b415f3fa",
   "metadata": {},
   "outputs": [
    {
     "data": {
      "text/plain": [
       "[1.1, 2.2, 1.3, 1.4, 2.5]"
      ]
     },
     "execution_count": 12,
     "metadata": {},
     "output_type": "execute_result"
    }
   ],
   "source": [
    "#Base Python\n",
    "result = [(x if c else y)  for x, y, c in zip(xarr, yarr, cond) ]\n",
    "result"
   ]
  },
  {
   "cell_type": "code",
   "execution_count": 13,
   "id": "571bc1de",
   "metadata": {},
   "outputs": [
    {
     "data": {
      "text/plain": [
       "array([1.1, 2.2, 1.3, 1.4, 2.5])"
      ]
     },
     "execution_count": 13,
     "metadata": {},
     "output_type": "execute_result"
    }
   ],
   "source": [
    "#NumPy\n",
    "np.where(cond,xarr,yarr)"
   ]
  },
  {
   "cell_type": "code",
   "execution_count": 14,
   "id": "2bdec28b",
   "metadata": {},
   "outputs": [
    {
     "data": {
      "text/plain": [
       "array([[ 4.85514445e-01, -5.92593200e-01,  8.18083825e-01,\n",
       "        -8.13665853e-01],\n",
       "       [ 2.43342091e+00,  7.27661190e-01,  1.16929101e+00,\n",
       "         1.54582805e-01],\n",
       "       [ 4.67469170e-01,  3.63627239e-01,  2.59600393e-01,\n",
       "        -3.68865374e-01],\n",
       "       [-1.38484461e-03, -4.45504669e-01, -1.58361433e+00,\n",
       "        -2.46238493e-01]])"
      ]
     },
     "execution_count": 14,
     "metadata": {},
     "output_type": "execute_result"
    }
   ],
   "source": [
    "arr = np.random.standard_normal((4,4))\n",
    "arr"
   ]
  },
  {
   "cell_type": "code",
   "execution_count": 15,
   "id": "e90a08f2",
   "metadata": {},
   "outputs": [
    {
     "data": {
      "text/plain": [
       "array([[ True, False,  True, False],\n",
       "       [ True,  True,  True,  True],\n",
       "       [ True,  True,  True, False],\n",
       "       [False, False, False, False]])"
      ]
     },
     "execution_count": 15,
     "metadata": {},
     "output_type": "execute_result"
    }
   ],
   "source": [
    "arr>0"
   ]
  },
  {
   "cell_type": "code",
   "execution_count": 16,
   "id": "6cb753c5",
   "metadata": {},
   "outputs": [
    {
     "data": {
      "text/plain": [
       "array([[ 2, -2,  2, -2],\n",
       "       [ 2,  2,  2,  2],\n",
       "       [ 2,  2,  2, -2],\n",
       "       [-2, -2, -2, -2]])"
      ]
     },
     "execution_count": 16,
     "metadata": {},
     "output_type": "execute_result"
    }
   ],
   "source": [
    "np.where(arr>0, 2,-2)"
   ]
  },
  {
   "cell_type": "code",
   "execution_count": 17,
   "id": "553d5804",
   "metadata": {},
   "outputs": [
    {
     "data": {
      "text/plain": [
       "array([[ 4.85514445e-01, -5.92593200e-01,  8.18083825e-01,\n",
       "        -8.13665853e-01],\n",
       "       [ 2.43342091e+00,  7.27661190e-01,  1.16929101e+00,\n",
       "         1.54582805e-01],\n",
       "       [ 4.67469170e-01,  3.63627239e-01,  2.59600393e-01,\n",
       "        -3.68865374e-01],\n",
       "       [-1.38484461e-03, -4.45504669e-01, -1.58361433e+00,\n",
       "        -2.46238493e-01]])"
      ]
     },
     "execution_count": 17,
     "metadata": {},
     "output_type": "execute_result"
    }
   ],
   "source": [
    "arr"
   ]
  },
  {
   "cell_type": "code",
   "execution_count": 19,
   "id": "e52a1f53",
   "metadata": {},
   "outputs": [
    {
     "data": {
      "text/plain": [
       "array([[ 2.00000000e+00, -5.92593200e-01,  2.00000000e+00,\n",
       "        -8.13665853e-01],\n",
       "       [ 2.00000000e+00,  2.00000000e+00,  2.00000000e+00,\n",
       "         2.00000000e+00],\n",
       "       [ 2.00000000e+00,  2.00000000e+00,  2.00000000e+00,\n",
       "        -3.68865374e-01],\n",
       "       [-1.38484461e-03, -4.45504669e-01, -1.58361433e+00,\n",
       "        -2.46238493e-01]])"
      ]
     },
     "execution_count": 19,
     "metadata": {},
     "output_type": "execute_result"
    }
   ],
   "source": [
    "np.where(arr>0, 2, arr)"
   ]
  },
  {
   "cell_type": "markdown",
   "id": "8e411f15",
   "metadata": {},
   "source": [
    "## Mathematical and Statistical Method"
   ]
  },
  {
   "cell_type": "code",
   "execution_count": 20,
   "id": "6bfa14db",
   "metadata": {},
   "outputs": [
    {
     "data": {
      "text/plain": [
       "array([[ 0.6399445 ,  0.11429901, -0.63055764, -0.08054441],\n",
       "       [-1.25850234,  0.4094504 , -1.53692676,  0.18875289],\n",
       "       [ 0.91202112, -0.04274675,  0.58764449,  1.20456191],\n",
       "       [ 0.61433909,  0.81151366, -1.54912759,  0.71295376],\n",
       "       [ 0.10676238, -0.96191742,  0.05317796, -0.41253674]])"
      ]
     },
     "execution_count": 20,
     "metadata": {},
     "output_type": "execute_result"
    }
   ],
   "source": [
    "arr = np.random.standard_normal((5,4))\n",
    "arr"
   ]
  },
  {
   "cell_type": "code",
   "execution_count": 21,
   "id": "a5db8276",
   "metadata": {},
   "outputs": [
    {
     "data": {
      "text/plain": [
       "-0.005871923647422899"
      ]
     },
     "execution_count": 21,
     "metadata": {},
     "output_type": "execute_result"
    }
   ],
   "source": [
    "arr.mean()"
   ]
  },
  {
   "cell_type": "code",
   "execution_count": 22,
   "id": "f858b087",
   "metadata": {},
   "outputs": [
    {
     "data": {
      "text/plain": [
       "-0.005871923647422899"
      ]
     },
     "execution_count": 22,
     "metadata": {},
     "output_type": "execute_result"
    }
   ],
   "source": [
    "np.mean(arr)"
   ]
  },
  {
   "cell_type": "code",
   "execution_count": 23,
   "id": "71a0e58f",
   "metadata": {},
   "outputs": [
    {
     "data": {
      "text/plain": [
       "-0.117438472948458"
      ]
     },
     "execution_count": 23,
     "metadata": {},
     "output_type": "execute_result"
    }
   ],
   "source": [
    "arr.sum()"
   ]
  },
  {
   "cell_type": "code",
   "execution_count": 24,
   "id": "5b095923",
   "metadata": {},
   "outputs": [
    {
     "data": {
      "text/plain": [
       "-0.117438472948458"
      ]
     },
     "execution_count": 24,
     "metadata": {},
     "output_type": "execute_result"
    }
   ],
   "source": [
    "np.sum(arr)"
   ]
  },
  {
   "cell_type": "code",
   "execution_count": 25,
   "id": "c3a257e6",
   "metadata": {},
   "outputs": [
    {
     "data": {
      "text/plain": [
       "array([ 0.01078537, -0.54930646,  0.66537019,  0.14741973, -0.30362846])"
      ]
     },
     "execution_count": 25,
     "metadata": {},
     "output_type": "execute_result"
    }
   ],
   "source": [
    "np.mean(arr, axis=1) # columns"
   ]
  },
  {
   "cell_type": "code",
   "execution_count": 26,
   "id": "62f07c62",
   "metadata": {},
   "outputs": [
    {
     "data": {
      "text/plain": [
       "array([ 0.20291295,  0.06611978, -0.61515791,  0.32263748])"
      ]
     },
     "execution_count": 26,
     "metadata": {},
     "output_type": "execute_result"
    }
   ],
   "source": [
    "np.mean(arr, axis =0) # rows"
   ]
  },
  {
   "cell_type": "code",
   "execution_count": 27,
   "id": "158f62c2",
   "metadata": {},
   "outputs": [
    {
     "data": {
      "text/plain": [
       "array([ 0.6399445 ,  0.75424351,  0.12368588,  0.04314147, -1.21536088,\n",
       "       -0.80591048, -2.34283724, -2.15408435, -1.24206323, -1.28480998,\n",
       "       -0.69716549,  0.50739642,  1.12173551,  1.93324918,  0.38412159,\n",
       "        1.09707535,  1.20383773,  0.24192031,  0.29509826, -0.11743847])"
      ]
     },
     "execution_count": 27,
     "metadata": {},
     "output_type": "execute_result"
    }
   ],
   "source": [
    "arr.cumsum()"
   ]
  },
  {
   "cell_type": "code",
   "execution_count": 28,
   "id": "b1a93aa6",
   "metadata": {},
   "outputs": [
    {
     "data": {
      "text/plain": [
       "array([ 6.39944501e-01,  7.31450233e-02, -4.61221529e-02,  3.71488148e-03,\n",
       "       -4.67518705e-03, -1.91425719e-03,  2.94207310e-03,  5.55324789e-04,\n",
       "        5.06467938e-04, -2.16498586e-05, -1.27224201e-05, -1.53249426e-05,\n",
       "       -9.41471134e-06, -7.64016689e-06,  1.18355933e-05,  8.43823072e-06,\n",
       "        9.00885587e-07, -8.66577542e-07, -4.60828228e-08,  1.90108573e-08])"
      ]
     },
     "execution_count": 28,
     "metadata": {},
     "output_type": "execute_result"
    }
   ],
   "source": [
    "arr.cumprod()"
   ]
  },
  {
   "cell_type": "code",
   "execution_count": 29,
   "id": "cf854a35",
   "metadata": {},
   "outputs": [
    {
     "data": {
      "text/plain": [
       "array([[0, 1, 2],\n",
       "       [3, 4, 5],\n",
       "       [6, 7, 8]])"
      ]
     },
     "execution_count": 29,
     "metadata": {},
     "output_type": "execute_result"
    }
   ],
   "source": [
    "arr = np.array([[0, 1, 2], [3, 4, 5], [6, 7, 8]])\n",
    "arr"
   ]
  },
  {
   "cell_type": "code",
   "execution_count": 30,
   "id": "7ec61b7a",
   "metadata": {},
   "outputs": [
    {
     "data": {
      "text/plain": [
       "array([[ 0,  1,  2],\n",
       "       [ 3,  5,  7],\n",
       "       [ 9, 12, 15]])"
      ]
     },
     "execution_count": 30,
     "metadata": {},
     "output_type": "execute_result"
    }
   ],
   "source": [
    "arr.cumsum(axis = 0)"
   ]
  },
  {
   "cell_type": "code",
   "execution_count": 31,
   "id": "f17299ce",
   "metadata": {},
   "outputs": [
    {
     "data": {
      "text/plain": [
       "array([[ 0,  1,  2],\n",
       "       [ 0,  4, 10],\n",
       "       [ 0, 28, 80]])"
      ]
     },
     "execution_count": 31,
     "metadata": {},
     "output_type": "execute_result"
    }
   ],
   "source": [
    "arr.cumprod(axis = 0)"
   ]
  },
  {
   "cell_type": "markdown",
   "id": "8e6a076d",
   "metadata": {},
   "source": [
    "## Methods for Boolean Array"
   ]
  },
  {
   "cell_type": "code",
   "execution_count": 32,
   "id": "32571f3e",
   "metadata": {},
   "outputs": [
    {
     "data": {
      "text/plain": [
       "array([ 0.19742486, -0.37360454,  1.04498059,  0.50516475,  0.34499883,\n",
       "        1.9645686 ,  0.99726108,  0.2584047 ,  0.13642084, -0.51981109,\n",
       "        1.18467368, -0.02996508,  0.1794772 ,  0.39905516, -0.63476402,\n",
       "       -1.30305928, -0.45029921,  0.52950562,  0.97621923,  1.93791057,\n",
       "       -1.88204025,  1.42354635,  0.60365474,  0.49167192,  0.23813265,\n",
       "        1.72975255, -0.05978438, -1.35160455, -0.72052482, -0.75481223,\n",
       "       -0.37553997,  0.03099921, -0.07019768,  1.13250855, -0.84928125,\n",
       "        0.66124857, -0.28605025,  1.53513558, -0.71882027, -2.07369691,\n",
       "       -1.12655315, -1.41861722,  0.26983179, -0.94706789,  0.4073552 ,\n",
       "       -0.40854149,  0.39076514,  0.56062425, -0.87808764,  0.75612405,\n",
       "        1.06705217,  0.18947724,  0.75735228, -1.60680162, -1.52469934,\n",
       "       -0.10291687, -1.53469077, -0.44375875,  0.52577026,  0.42905129,\n",
       "        1.08170722, -0.10380046,  1.22971268,  0.08696287, -1.52105719,\n",
       "        0.06329396,  0.9362231 ,  0.67645002, -0.69367108, -1.72213957,\n",
       "        0.87790786,  4.43444742, -1.17813954, -0.0054847 , -0.64476534,\n",
       "        1.56855836,  0.03272642,  1.21182362, -0.03780561, -0.72212069,\n",
       "        1.65868955, -0.11841185,  0.86874005,  0.20464442, -0.65994367,\n",
       "        1.89329832, -1.15854058,  0.86081756, -1.24166447,  0.118884  ,\n",
       "        0.34678344,  1.0336931 , -1.65167667, -1.38298586,  0.05345513,\n",
       "        0.67763041, -1.01882359,  0.24154765, -1.49051327,  1.74400136])"
      ]
     },
     "execution_count": 32,
     "metadata": {},
     "output_type": "execute_result"
    }
   ],
   "source": [
    "arr = np.random.standard_normal(100)\n",
    "arr"
   ]
  },
  {
   "cell_type": "code",
   "execution_count": 33,
   "id": "3346f25b",
   "metadata": {},
   "outputs": [
    {
     "data": {
      "text/plain": [
       "56"
      ]
     },
     "execution_count": 33,
     "metadata": {},
     "output_type": "execute_result"
    }
   ],
   "source": [
    "(arr>0).sum()"
   ]
  },
  {
   "cell_type": "code",
   "execution_count": 34,
   "id": "8a0613a9",
   "metadata": {},
   "outputs": [
    {
     "data": {
      "text/plain": [
       "44"
      ]
     },
     "execution_count": 34,
     "metadata": {},
     "output_type": "execute_result"
    }
   ],
   "source": [
    "(arr<=0).sum()"
   ]
  },
  {
   "cell_type": "code",
   "execution_count": 35,
   "id": "c03a16a5",
   "metadata": {},
   "outputs": [
    {
     "data": {
      "text/plain": [
       "array([False,  True, False,  True])"
      ]
     },
     "execution_count": 35,
     "metadata": {},
     "output_type": "execute_result"
    }
   ],
   "source": [
    "#any and all()\n",
    "\n",
    "bool = np.array([False, True, False, True])\n",
    "bool"
   ]
  },
  {
   "cell_type": "code",
   "execution_count": 36,
   "id": "2dd86ff4",
   "metadata": {},
   "outputs": [
    {
     "data": {
      "text/plain": [
       "True"
      ]
     },
     "execution_count": 36,
     "metadata": {},
     "output_type": "execute_result"
    }
   ],
   "source": [
    "bool.any()"
   ]
  },
  {
   "cell_type": "code",
   "execution_count": 37,
   "id": "214127e4",
   "metadata": {},
   "outputs": [
    {
     "data": {
      "text/plain": [
       "False"
      ]
     },
     "execution_count": 37,
     "metadata": {},
     "output_type": "execute_result"
    }
   ],
   "source": [
    "bool.all()"
   ]
  },
  {
   "cell_type": "code",
   "execution_count": 38,
   "id": "e56f0daa",
   "metadata": {},
   "outputs": [
    {
     "data": {
      "text/plain": [
       "array([-1.28125564,  0.14516832, -1.31717481, -0.29514324,  0.19111166,\n",
       "        0.77349185,  2.46243817,  1.02660752])"
      ]
     },
     "execution_count": 38,
     "metadata": {},
     "output_type": "execute_result"
    }
   ],
   "source": [
    "#sorting \n",
    "arr = np.random.standard_normal(8) \n",
    "arr"
   ]
  },
  {
   "cell_type": "code",
   "execution_count": 39,
   "id": "e48110df",
   "metadata": {},
   "outputs": [
    {
     "data": {
      "text/plain": [
       "array([-1.31717481, -1.28125564, -0.29514324,  0.14516832,  0.19111166,\n",
       "        0.77349185,  1.02660752,  2.46243817])"
      ]
     },
     "execution_count": 39,
     "metadata": {},
     "output_type": "execute_result"
    }
   ],
   "source": [
    "arr.sort()\n",
    "arr"
   ]
  },
  {
   "cell_type": "code",
   "execution_count": 42,
   "id": "61dbab5f",
   "metadata": {},
   "outputs": [
    {
     "data": {
      "text/plain": [
       "array(['Bob', 'Will', 'Joe', 'Bob', 'Will', 'Joe', 'Joe'], dtype='<U4')"
      ]
     },
     "execution_count": 42,
     "metadata": {},
     "output_type": "execute_result"
    }
   ],
   "source": [
    "# unique \n",
    "names = np.array([\"Bob\", \"Will\", \"Joe\", \"Bob\", \"Will\", \"Joe\", \"Joe\"])\n",
    "names"
   ]
  },
  {
   "cell_type": "code",
   "execution_count": 43,
   "id": "342447a1",
   "metadata": {},
   "outputs": [
    {
     "data": {
      "text/plain": [
       "array(['Bob', 'Joe', 'Will'], dtype='<U4')"
      ]
     },
     "execution_count": 43,
     "metadata": {},
     "output_type": "execute_result"
    }
   ],
   "source": [
    "np.unique(names)"
   ]
  },
  {
   "cell_type": "markdown",
   "id": "17d15d70",
   "metadata": {},
   "source": [
    "## Linear Algebra"
   ]
  },
  {
   "cell_type": "code",
   "execution_count": 44,
   "id": "8f375558",
   "metadata": {},
   "outputs": [],
   "source": [
    "x = np.array([[1., 2., 3.], [4., 5., 6.]])\n",
    "y = np.array([[6., 23.], [-1, 7], [8, 9]])"
   ]
  },
  {
   "cell_type": "code",
   "execution_count": 45,
   "id": "36448d07",
   "metadata": {},
   "outputs": [
    {
     "data": {
      "text/plain": [
       "array([[1., 2., 3.],\n",
       "       [4., 5., 6.]])"
      ]
     },
     "execution_count": 45,
     "metadata": {},
     "output_type": "execute_result"
    }
   ],
   "source": [
    "x"
   ]
  },
  {
   "cell_type": "code",
   "execution_count": 46,
   "id": "6dc54b3e",
   "metadata": {},
   "outputs": [
    {
     "data": {
      "text/plain": [
       "array([[ 6., 23.],\n",
       "       [-1.,  7.],\n",
       "       [ 8.,  9.]])"
      ]
     },
     "execution_count": 46,
     "metadata": {},
     "output_type": "execute_result"
    }
   ],
   "source": [
    "y"
   ]
  },
  {
   "cell_type": "code",
   "execution_count": 47,
   "id": "3e595da9",
   "metadata": {},
   "outputs": [
    {
     "data": {
      "text/plain": [
       "array([[ 28.,  64.],\n",
       "       [ 67., 181.]])"
      ]
     },
     "execution_count": 47,
     "metadata": {},
     "output_type": "execute_result"
    }
   ],
   "source": [
    "x.dot(y) #Dot product of two arrays."
   ]
  },
  {
   "cell_type": "code",
   "execution_count": 48,
   "id": "273e23d4",
   "metadata": {},
   "outputs": [
    {
     "data": {
      "text/plain": [
       "array([[ 28.,  64.],\n",
       "       [ 67., 181.]])"
      ]
     },
     "execution_count": 48,
     "metadata": {},
     "output_type": "execute_result"
    }
   ],
   "source": [
    "np.dot(x,y)"
   ]
  },
  {
   "cell_type": "code",
   "execution_count": 49,
   "id": "fa7f9852",
   "metadata": {},
   "outputs": [
    {
     "data": {
      "text/plain": [
       "array([[ 28.,  64.],\n",
       "       [ 67., 181.]])"
      ]
     },
     "execution_count": 49,
     "metadata": {},
     "output_type": "execute_result"
    }
   ],
   "source": [
    "x @ y "
   ]
  },
  {
   "cell_type": "code",
   "execution_count": 50,
   "id": "7f1a1d39",
   "metadata": {},
   "outputs": [
    {
     "data": {
      "text/plain": [
       "array([[ 0.8173762 ,  1.14273013, -0.16940669,  1.84299219, -0.33803229],\n",
       "       [-0.41852119,  0.23020269,  1.56525744, -1.69683886,  0.3836923 ],\n",
       "       [-0.70110791, -1.00830654,  1.17933944, -0.0840689 ,  0.13109337],\n",
       "       [-0.32823243, -1.10140878,  0.09109863, -0.38427307,  2.43224304],\n",
       "       [ 1.48699378, -1.3093754 , -1.66611349,  0.04110837, -0.03739468]])"
      ]
     },
     "execution_count": 50,
     "metadata": {},
     "output_type": "execute_result"
    }
   ],
   "source": [
    "# linalg library\n",
    "\n",
    "from numpy.linalg import inv, qr\n",
    "X = np.random.standard_normal((5,5))\n",
    "X"
   ]
  },
  {
   "cell_type": "code",
   "execution_count": 51,
   "id": "061e18f0",
   "metadata": {},
   "outputs": [
    {
     "data": {
      "text/plain": [
       "array([[ 3.65370319, -0.0408876 , -4.12780854,  2.46278113, -1.3827402 ],\n",
       "       [-0.0408876 ,  5.30307275,  1.05883586,  2.16960849, -3.06006514],\n",
       "       [-4.12780854,  1.05883586,  6.65380412, -3.17084859,  1.09632351],\n",
       "       [ 2.46278113,  2.16960849, -3.17084859,  6.43230558, -2.22125847],\n",
       "       [-1.3827402 , -3.06006514,  1.09632351, -2.22125847,  6.19587564]])"
      ]
     },
     "execution_count": 51,
     "metadata": {},
     "output_type": "execute_result"
    }
   ],
   "source": [
    "mat = X.T @ X\n",
    "mat"
   ]
  },
  {
   "cell_type": "code",
   "execution_count": 52,
   "id": "a564f4b8",
   "metadata": {},
   "outputs": [
    {
     "data": {
      "text/plain": [
       "array([[ 1.01460041, -0.04526196,  0.59962772, -0.04996165,  0.08006302],\n",
       "       [-0.04526196,  0.37275805, -0.18179227, -0.14474091,  0.15427594],\n",
       "       [ 0.59962772, -0.18179227,  0.61565404,  0.12875306, -0.01874295],\n",
       "       [-0.04996165, -0.14474091,  0.12875306,  0.285873  , -0.00293062],\n",
       "       [ 0.08006302,  0.15427594, -0.01874295, -0.00293062,  0.2577262 ]])"
      ]
     },
     "execution_count": 52,
     "metadata": {},
     "output_type": "execute_result"
    }
   ],
   "source": [
    "# inverse of matrix \n",
    "inv(mat)"
   ]
  },
  {
   "cell_type": "code",
   "execution_count": 53,
   "id": "0ad266a2",
   "metadata": {},
   "outputs": [
    {
     "data": {
      "text/plain": [
       "array([[ 1.00000000e+00, -6.16521349e-17, -4.91880560e-16,\n",
       "        -1.67909443e-16, -2.98184745e-17],\n",
       "       [-8.92357831e-17,  1.00000000e+00, -1.12798102e-16,\n",
       "        -1.52199038e-16,  1.11487224e-16],\n",
       "       [ 1.66891865e-16,  3.93180197e-17,  1.00000000e+00,\n",
       "         2.91768166e-17,  1.80721285e-17],\n",
       "       [-7.93350572e-16,  2.07611376e-17, -4.45704345e-16,\n",
       "         1.00000000e+00,  2.14174982e-17],\n",
       "       [ 3.37972614e-16,  2.60839086e-18,  5.57358883e-17,\n",
       "         5.28980254e-17,  1.00000000e+00]])"
      ]
     },
     "execution_count": 53,
     "metadata": {},
     "output_type": "execute_result"
    }
   ],
   "source": [
    "mat @ inv(mat)"
   ]
  },
  {
   "cell_type": "markdown",
   "id": "2e070f47",
   "metadata": {},
   "source": [
    "## Random Walk"
   ]
  },
  {
   "cell_type": "code",
   "execution_count": 69,
   "id": "d6fa67b0",
   "metadata": {},
   "outputs": [],
   "source": [
    "# Base Python\n",
    "\n",
    "import random\n",
    "position = 0 \n",
    "walk = [position]\n",
    "nsteps = 1000\n",
    "\n",
    "for _ in range(nsteps):\n",
    "    step =1 if random.randint(0,1) else -1\n",
    "    position += step\n",
    "    walk.append(position)"
   ]
  },
  {
   "cell_type": "code",
   "execution_count": 70,
   "id": "0f6385c6",
   "metadata": {},
   "outputs": [
    {
     "data": {
      "image/png": "[encoded data removed]",
      "text/plain": [
       "<Figure size 640x480 with 1 Axes>"
      ]
     },
     "metadata": {},
     "output_type": "display_data"
    }
   ],
   "source": [
    "plt.plot(walk[:100]);"
   ]
  },
  {
   "cell_type": "code",
   "execution_count": 61,
   "id": "19cf8cff",
   "metadata": {},
   "outputs": [],
   "source": [
    "# Numpy coin flip\n",
    "nsteps = 1000\n",
    "rng = np.random.default_rng(seed= 12345) # fresh random number\n",
    "draw = rng.integers(0,2, size = nsteps)\n",
    "steps = np.where(draw ==0, 1, -1)\n",
    "walk = steps.cumsum()"
   ]
  },
  {
   "cell_type": "code",
   "execution_count": 62,
   "id": "957a1603",
   "metadata": {},
   "outputs": [
    {
     "data": {
      "text/plain": [
       "-8"
      ]
     },
     "execution_count": 62,
     "metadata": {},
     "output_type": "execute_result"
    }
   ],
   "source": [
    "walk.min()"
   ]
  },
  {
   "cell_type": "code",
   "execution_count": 63,
   "id": "1789ac03",
   "metadata": {},
   "outputs": [
    {
     "data": {
      "text/plain": [
       "50"
      ]
     },
     "execution_count": 63,
     "metadata": {},
     "output_type": "execute_result"
    }
   ],
   "source": [
    "walk.max()"
   ]
  },
  {
   "cell_type": "code",
   "execution_count": 64,
   "id": "bbbfd07c",
   "metadata": {},
   "outputs": [
    {
     "data": {
      "text/plain": [
       "[<matplotlib.lines.Line2D at 0x18483e6f1c0>]"
      ]
     },
     "execution_count": 64,
     "metadata": {},
     "output_type": "execute_result"
    },
    {
     "data": {
      "image/png": "[encoded data removed]",
      "text/plain": [
       "<Figure size 640x480 with 1 Axes>"
      ]
     },
     "metadata": {},
     "output_type": "display_data"
    }
   ],
   "source": [
    "plt.plot(walk)"
   ]
  },
  {
   "cell_type": "code",
   "execution_count": null,
   "id": "54b1b4da",
   "metadata": {},
   "outputs": [],
   "source": []
  }
 ],
 "metadata": {
  "kernelspec": {
   "display_name": "Python 3 (ipykernel)",
   "language": "python",
   "name": "python3"
  },
  "language_info": {
   "codemirror_mode": {
    "name": "ipython",
    "version": 3
   },
   "file_extension": ".py",
   "mimetype": "text/x-python",
   "name": "python",
   "nbconvert_exporter": "python",
   "pygments_lexer": "ipython3",
   "version": "3.10.10"
  }
 },
 "nbformat": 4,
 "nbformat_minor": 5
}
