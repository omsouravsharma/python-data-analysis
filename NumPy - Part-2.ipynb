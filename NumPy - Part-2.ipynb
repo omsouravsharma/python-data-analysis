{
 "cells": [
  {
   "cell_type": "markdown",
   "id": "44f04dbe",
   "metadata": {},
   "source": [
    "## Array-Oriented Programming with Array"
   ]
  },
  {
   "cell_type": "code",
   "execution_count": 2,
   "id": "3a827470",
   "metadata": {},
   "outputs": [],
   "source": [
    "import numpy as np"
   ]
  },
  {
   "cell_type": "code",
   "execution_count": 4,
   "id": "bb5cee5e",
   "metadata": {},
   "outputs": [
    {
     "data": {
      "text/plain": [
       "array([-5.00000000e+00, -4.90000000e+00, -4.80000000e+00, -4.70000000e+00,\n",
       "       -4.60000000e+00, -4.50000000e+00, -4.40000000e+00, -4.30000000e+00,\n",
       "       -4.20000000e+00, -4.10000000e+00, -4.00000000e+00, -3.90000000e+00,\n",
       "       -3.80000000e+00, -3.70000000e+00, -3.60000000e+00, -3.50000000e+00,\n",
       "       -3.40000000e+00, -3.30000000e+00, -3.20000000e+00, -3.10000000e+00,\n",
       "       -3.00000000e+00, -2.90000000e+00, -2.80000000e+00, -2.70000000e+00,\n",
       "       -2.60000000e+00, -2.50000000e+00, -2.40000000e+00, -2.30000000e+00,\n",
       "       -2.20000000e+00, -2.10000000e+00, -2.00000000e+00, -1.90000000e+00,\n",
       "       -1.80000000e+00, -1.70000000e+00, -1.60000000e+00, -1.50000000e+00,\n",
       "       -1.40000000e+00, -1.30000000e+00, -1.20000000e+00, -1.10000000e+00,\n",
       "       -1.00000000e+00, -9.00000000e-01, -8.00000000e-01, -7.00000000e-01,\n",
       "       -6.00000000e-01, -5.00000000e-01, -4.00000000e-01, -3.00000000e-01,\n",
       "       -2.00000000e-01, -1.00000000e-01, -1.77635684e-14,  1.00000000e-01,\n",
       "        2.00000000e-01,  3.00000000e-01,  4.00000000e-01,  5.00000000e-01,\n",
       "        6.00000000e-01,  7.00000000e-01,  8.00000000e-01,  9.00000000e-01,\n",
       "        1.00000000e+00,  1.10000000e+00,  1.20000000e+00,  1.30000000e+00,\n",
       "        1.40000000e+00,  1.50000000e+00,  1.60000000e+00,  1.70000000e+00,\n",
       "        1.80000000e+00,  1.90000000e+00,  2.00000000e+00,  2.10000000e+00,\n",
       "        2.20000000e+00,  2.30000000e+00,  2.40000000e+00,  2.50000000e+00,\n",
       "        2.60000000e+00,  2.70000000e+00,  2.80000000e+00,  2.90000000e+00,\n",
       "        3.00000000e+00,  3.10000000e+00,  3.20000000e+00,  3.30000000e+00,\n",
       "        3.40000000e+00,  3.50000000e+00,  3.60000000e+00,  3.70000000e+00,\n",
       "        3.80000000e+00,  3.90000000e+00,  4.00000000e+00,  4.10000000e+00,\n",
       "        4.20000000e+00,  4.30000000e+00,  4.40000000e+00,  4.50000000e+00,\n",
       "        4.60000000e+00,  4.70000000e+00,  4.80000000e+00,  4.90000000e+00])"
      ]
     },
     "execution_count": 4,
     "metadata": {},
     "output_type": "execute_result"
    }
   ],
   "source": [
    "points = np.arange(-5,5,0.1)\n",
    "points"
   ]
  },
  {
   "cell_type": "code",
   "execution_count": 11,
   "id": "ad4f020e",
   "metadata": {},
   "outputs": [],
   "source": [
    "#meshgrid - Takes two dimensional array and produce pair\n",
    "xs, ys = np.meshgrid(points, points)"
   ]
  },
  {
   "cell_type": "code",
   "execution_count": 8,
   "id": "1ae085f5",
   "metadata": {},
   "outputs": [
    {
     "data": {
      "text/plain": [
       "array([[-5. , -5. , -5. , ..., -5. , -5. , -5. ],\n",
       "       [-4.9, -4.9, -4.9, ..., -4.9, -4.9, -4.9],\n",
       "       [-4.8, -4.8, -4.8, ..., -4.8, -4.8, -4.8],\n",
       "       ...,\n",
       "       [ 4.7,  4.7,  4.7, ...,  4.7,  4.7,  4.7],\n",
       "       [ 4.8,  4.8,  4.8, ...,  4.8,  4.8,  4.8],\n",
       "       [ 4.9,  4.9,  4.9, ...,  4.9,  4.9,  4.9]])"
      ]
     },
     "execution_count": 8,
     "metadata": {},
     "output_type": "execute_result"
    }
   ],
   "source": [
    "ys"
   ]
  },
  {
   "cell_type": "code",
   "execution_count": 12,
   "id": "28a31a4a",
   "metadata": {},
   "outputs": [
    {
     "data": {
      "text/plain": [
       "array([[-5. , -4.9, -4.8, ...,  4.7,  4.8,  4.9],\n",
       "       [-5. , -4.9, -4.8, ...,  4.7,  4.8,  4.9],\n",
       "       [-5. , -4.9, -4.8, ...,  4.7,  4.8,  4.9],\n",
       "       ...,\n",
       "       [-5. , -4.9, -4.8, ...,  4.7,  4.8,  4.9],\n",
       "       [-5. , -4.9, -4.8, ...,  4.7,  4.8,  4.9],\n",
       "       [-5. , -4.9, -4.8, ...,  4.7,  4.8,  4.9]])"
      ]
     },
     "execution_count": 12,
     "metadata": {},
     "output_type": "execute_result"
    }
   ],
   "source": [
    "xs"
   ]
  },
  {
   "cell_type": "code",
   "execution_count": 13,
   "id": "09597da7",
   "metadata": {},
   "outputs": [
    {
     "data": {
      "text/plain": [
       "array([[7.07106781, 7.00071425, 6.93108938, ..., 6.86221539, 6.93108938,\n",
       "        7.00071425],\n",
       "       [7.00071425, 6.92964646, 6.85930026, ..., 6.78969808, 6.85930026,\n",
       "        6.92964646],\n",
       "       [6.93108938, 6.85930026, 6.7882251 , ..., 6.71788657, 6.7882251 ,\n",
       "        6.85930026],\n",
       "       ...,\n",
       "       [6.86221539, 6.78969808, 6.71788657, ..., 6.64680374, 6.71788657,\n",
       "        6.78969808],\n",
       "       [6.93108938, 6.85930026, 6.7882251 , ..., 6.71788657, 6.7882251 ,\n",
       "        6.85930026],\n",
       "       [7.00071425, 6.92964646, 6.85930026, ..., 6.78969808, 6.85930026,\n",
       "        6.92964646]])"
      ]
     },
     "execution_count": 13,
     "metadata": {},
     "output_type": "execute_result"
    }
   ],
   "source": [
    "# Calcuate sqrt(x^2 + y^2)\n",
    "\n",
    "z = np.sqrt(xs**2+ ys**2)\n",
    "z"
   ]
  },
  {
   "cell_type": "code",
   "execution_count": null,
   "id": "847005fb",
   "metadata": {},
   "outputs": [],
   "source": [
    "# pip install matplotlib - To install matplotlib"
   ]
  },
  {
   "cell_type": "code",
   "execution_count": 20,
   "id": "09f7a2ae",
   "metadata": {},
   "outputs": [
    {
     "data": {
      "text/plain": [
       "Text(0.5, 1.0, 'Image Plot for $\\\\sqrt{x^2 + y^2}$ for a grid of values')"
      ]
     },
     "execution_count": 20,
     "metadata": {},
     "output_type": "execute_result"
    },
    {
     "data": {
      "image/png": "[encoded data removed]",
      "text/plain": [
       "<Figure size 640x480 with 2 Axes>"
      ]
     },
     "metadata": {},
     "output_type": "display_data"
    }
   ],
   "source": [
    "# Plot\n",
    "import matplotlib.pyplot as plt\n",
    "plt.imshow(z, cmap=plt.cm.gray, extent = [-5,5,-5,5])\n",
    "plt.colorbar()\n",
    "plt.title(\"Image Plot for $\\sqrt{x^2 + y^2}$ for a grid of values\")"
   ]
  },
  {
   "cell_type": "markdown",
   "id": "58b3d4d8",
   "metadata": {},
   "source": [
    "## Expressing Conditional logic as Array Operations"
   ]
  },
  {
   "cell_type": "code",
   "execution_count": 21,
   "id": "1352d28a",
   "metadata": {},
   "outputs": [],
   "source": [
    "# np.where - conditional version of if condition else y\n",
    "xarr = np.array([1.1, 1.2, 1.3, 1.4, 1.5])\n",
    "yarr = np.array([2.1, 2.2, 2.3, 2.4, 2.5])\n",
    "cond = np.array([True, False, True, True, False])"
   ]
  },
  {
   "cell_type": "code",
   "execution_count": 30,
   "id": "b415f3fa",
   "metadata": {},
   "outputs": [
    {
     "data": {
      "text/plain": [
       "[1.1, 2.2, 1.3, 1.4, 2.5]"
      ]
     },
     "execution_count": 30,
     "metadata": {},
     "output_type": "execute_result"
    }
   ],
   "source": [
    "#Base Python\n",
    "result = [(x if c else y)  for x, y, c in zip(xarr, yarr, cond) ]\n",
    "result"
   ]
  },
  {
   "cell_type": "code",
   "execution_count": 31,
   "id": "571bc1de",
   "metadata": {},
   "outputs": [
    {
     "data": {
      "text/plain": [
       "array([1.1, 2.2, 1.3, 1.4, 2.5])"
      ]
     },
     "execution_count": 31,
     "metadata": {},
     "output_type": "execute_result"
    }
   ],
   "source": [
    "#NumPy\n",
    "np.where(cond,xarr,yarr)"
   ]
  },
  {
   "cell_type": "code",
   "execution_count": 32,
   "id": "2bdec28b",
   "metadata": {},
   "outputs": [
    {
     "data": {
      "text/plain": [
       "array([[-0.35158005,  0.29761833,  1.25806103,  0.93874037],\n",
       "       [-0.14711045, -1.40490645,  0.4379877 , -1.82422006],\n",
       "       [ 0.49421236,  1.10880703,  1.40523009, -0.78412005],\n",
       "       [ 1.3893415 , -0.85163358, -1.0545746 ,  0.72964153]])"
      ]
     },
     "execution_count": 32,
     "metadata": {},
     "output_type": "execute_result"
    }
   ],
   "source": [
    "arr = np.random.standard_normal((4,4))\n",
    "arr"
   ]
  },
  {
   "cell_type": "code",
   "execution_count": 33,
   "id": "e90a08f2",
   "metadata": {},
   "outputs": [
    {
     "data": {
      "text/plain": [
       "array([[False,  True,  True,  True],\n",
       "       [False, False,  True, False],\n",
       "       [ True,  True,  True, False],\n",
       "       [ True, False, False,  True]])"
      ]
     },
     "execution_count": 33,
     "metadata": {},
     "output_type": "execute_result"
    }
   ],
   "source": [
    "arr>0"
   ]
  },
  {
   "cell_type": "code",
   "execution_count": 34,
   "id": "6cb753c5",
   "metadata": {},
   "outputs": [
    {
     "data": {
      "text/plain": [
       "array([[-2,  2,  2,  2],\n",
       "       [-2, -2,  2, -2],\n",
       "       [ 2,  2,  2, -2],\n",
       "       [ 2, -2, -2,  2]])"
      ]
     },
     "execution_count": 34,
     "metadata": {},
     "output_type": "execute_result"
    }
   ],
   "source": [
    "np.where(arr>0, 2,-2)"
   ]
  },
  {
   "cell_type": "code",
   "execution_count": 35,
   "id": "553d5804",
   "metadata": {},
   "outputs": [
    {
     "data": {
      "text/plain": [
       "array([[-0.35158005,  0.29761833,  1.25806103,  0.93874037],\n",
       "       [-0.14711045, -1.40490645,  0.4379877 , -1.82422006],\n",
       "       [ 0.49421236,  1.10880703,  1.40523009, -0.78412005],\n",
       "       [ 1.3893415 , -0.85163358, -1.0545746 ,  0.72964153]])"
      ]
     },
     "execution_count": 35,
     "metadata": {},
     "output_type": "execute_result"
    }
   ],
   "source": [
    "arr"
   ]
  },
  {
   "cell_type": "code",
   "execution_count": 36,
   "id": "e52a1f53",
   "metadata": {},
   "outputs": [
    {
     "data": {
      "text/plain": [
       "array([[-0.35158005,  2.        ,  2.        ,  2.        ],\n",
       "       [-0.14711045, -1.40490645,  2.        , -1.82422006],\n",
       "       [ 2.        ,  2.        ,  2.        , -0.78412005],\n",
       "       [ 2.        , -0.85163358, -1.0545746 ,  2.        ]])"
      ]
     },
     "execution_count": 36,
     "metadata": {},
     "output_type": "execute_result"
    }
   ],
   "source": [
    "np.where(arr>0, 2, arr)"
   ]
  },
  {
   "cell_type": "markdown",
   "id": "8e411f15",
   "metadata": {},
   "source": [
    "## Mathematical and Statistical Method"
   ]
  },
  {
   "cell_type": "code",
   "execution_count": 40,
   "id": "6bfa14db",
   "metadata": {},
   "outputs": [
    {
     "data": {
      "text/plain": [
       "array([[ 1.49434045e-01,  5.20358332e-01,  5.45430775e-01,\n",
       "        -2.86132107e-01],\n",
       "       [ 3.57849668e-01, -7.45043481e-02,  1.11464573e+00,\n",
       "        -1.24973060e-03],\n",
       "       [-6.16166469e-01,  1.50530346e+00, -2.60475585e-01,\n",
       "        -1.13746923e+00],\n",
       "       [ 6.14253588e-02, -5.63618188e-01, -2.40167085e+00,\n",
       "         8.83570222e-01],\n",
       "       [-5.98296674e-01,  8.74708374e-01, -1.08764912e+00,\n",
       "         2.86892950e-01]])"
      ]
     },
     "execution_count": 40,
     "metadata": {},
     "output_type": "execute_result"
    }
   ],
   "source": [
    "arr = np.random.standard_normal((5,4))\n",
    "arr"
   ]
  },
  {
   "cell_type": "code",
   "execution_count": 41,
   "id": "a5db8276",
   "metadata": {},
   "outputs": [
    {
     "data": {
      "text/plain": [
       "-0.036380669727827504"
      ]
     },
     "execution_count": 41,
     "metadata": {},
     "output_type": "execute_result"
    }
   ],
   "source": [
    "arr.mean()"
   ]
  },
  {
   "cell_type": "code",
   "execution_count": 42,
   "id": "f858b087",
   "metadata": {},
   "outputs": [
    {
     "data": {
      "text/plain": [
       "-0.036380669727827504"
      ]
     },
     "execution_count": 42,
     "metadata": {},
     "output_type": "execute_result"
    }
   ],
   "source": [
    "np.mean(arr)"
   ]
  },
  {
   "cell_type": "code",
   "execution_count": 43,
   "id": "71a0e58f",
   "metadata": {},
   "outputs": [
    {
     "data": {
      "text/plain": [
       "-0.72761339455655"
      ]
     },
     "execution_count": 43,
     "metadata": {},
     "output_type": "execute_result"
    }
   ],
   "source": [
    "arr.sum()"
   ]
  },
  {
   "cell_type": "code",
   "execution_count": 44,
   "id": "5b095923",
   "metadata": {},
   "outputs": [
    {
     "data": {
      "text/plain": [
       "-0.72761339455655"
      ]
     },
     "execution_count": 44,
     "metadata": {},
     "output_type": "execute_result"
    }
   ],
   "source": [
    "np.sum(arr)"
   ]
  },
  {
   "cell_type": "code",
   "execution_count": 45,
   "id": "c3a257e6",
   "metadata": {},
   "outputs": [
    {
     "data": {
      "text/plain": [
       "array([ 0.23227276,  0.34918533, -0.12720196, -0.50507336, -0.13108612])"
      ]
     },
     "execution_count": 45,
     "metadata": {},
     "output_type": "execute_result"
    }
   ],
   "source": [
    "np.mean(arr, axis=1) # columns"
   ]
  },
  {
   "cell_type": "code",
   "execution_count": 46,
   "id": "62f07c62",
   "metadata": {},
   "outputs": [
    {
     "data": {
      "text/plain": [
       "array([-0.12915081,  0.45244953, -0.41794381, -0.05087758])"
      ]
     },
     "execution_count": 46,
     "metadata": {},
     "output_type": "execute_result"
    }
   ],
   "source": [
    "np.mean(arr, axis =0) # rows"
   ]
  },
  {
   "cell_type": "code",
   "execution_count": 47,
   "id": "158f62c2",
   "metadata": {},
   "outputs": [
    {
     "data": {
      "text/plain": [
       "array([ 0.14943404,  0.66979238,  1.21522315,  0.92909105,  1.28694071,\n",
       "        1.21243637,  2.32708209,  2.32583236,  1.70966589,  3.21496935,\n",
       "        2.95449377,  1.81702454,  1.87844989,  1.31483171, -1.08683914,\n",
       "       -0.20326892, -0.8015656 ,  0.07314278, -1.01450634, -0.72761339])"
      ]
     },
     "execution_count": 47,
     "metadata": {},
     "output_type": "execute_result"
    }
   ],
   "source": [
    "arr.cumsum()"
   ]
  },
  {
   "cell_type": "code",
   "execution_count": 48,
   "id": "b1a93aa6",
   "metadata": {},
   "outputs": [
    {
     "data": {
      "text/plain": [
       "array([ 1.49434045e-01,  7.77592504e-02,  4.24122882e-02, -1.21355174e-02,\n",
       "       -4.34269086e-03,  3.23549352e-04,  3.60642903e-04, -4.50706472e-07,\n",
       "        2.77710215e-07,  4.18038147e-07, -1.08888731e-07,  1.23857581e-07,\n",
       "        7.60799638e-09, -4.28800513e-09,  1.02983769e-08,  9.09933919e-09,\n",
       "       -5.44410437e-09, -4.76200368e-09,  5.17938913e-09,  1.48593022e-09])"
      ]
     },
     "execution_count": 48,
     "metadata": {},
     "output_type": "execute_result"
    }
   ],
   "source": [
    "arr.cumprod()"
   ]
  },
  {
   "cell_type": "code",
   "execution_count": 50,
   "id": "cf854a35",
   "metadata": {},
   "outputs": [
    {
     "data": {
      "text/plain": [
       "array([[0, 1, 2],\n",
       "       [3, 4, 5],\n",
       "       [6, 7, 8]])"
      ]
     },
     "execution_count": 50,
     "metadata": {},
     "output_type": "execute_result"
    }
   ],
   "source": [
    "arr = np.array([[0, 1, 2], [3, 4, 5], [6, 7, 8]])\n",
    "arr"
   ]
  },
  {
   "cell_type": "code",
   "execution_count": 52,
   "id": "7ec61b7a",
   "metadata": {},
   "outputs": [
    {
     "data": {
      "text/plain": [
       "array([[ 0,  1,  2],\n",
       "       [ 3,  5,  7],\n",
       "       [ 9, 12, 15]])"
      ]
     },
     "execution_count": 52,
     "metadata": {},
     "output_type": "execute_result"
    }
   ],
   "source": [
    "arr.cumsum(axis = 0)"
   ]
  },
  {
   "cell_type": "code",
   "execution_count": 53,
   "id": "f17299ce",
   "metadata": {},
   "outputs": [
    {
     "data": {
      "text/plain": [
       "array([[ 0,  1,  2],\n",
       "       [ 0,  4, 10],\n",
       "       [ 0, 28, 80]])"
      ]
     },
     "execution_count": 53,
     "metadata": {},
     "output_type": "execute_result"
    }
   ],
   "source": [
    "arr.cumprod(axis = 0)"
   ]
  },
  {
   "cell_type": "markdown",
   "id": "8e6a076d",
   "metadata": {},
   "source": [
    "## Methods for Boolean Array"
   ]
  },
  {
   "cell_type": "code",
   "execution_count": 54,
   "id": "32571f3e",
   "metadata": {},
   "outputs": [
    {
     "data": {
      "text/plain": [
       "array([-1.03260029e+00, -1.35307355e+00, -2.34875246e+00,  4.49786860e-01,\n",
       "        8.24818851e-01, -1.97251276e+00,  3.42416584e-01,  1.88501583e-01,\n",
       "        1.81416026e-01,  2.33952855e+00, -1.98480082e+00, -3.26475363e-02,\n",
       "       -7.22363954e-01,  3.11425880e-01, -8.21144511e-01, -3.50461386e-01,\n",
       "        4.64956378e-01, -1.93474501e+00, -1.04097911e+00, -8.70888572e-01,\n",
       "       -9.39938731e-01, -1.53699035e-01, -1.87126803e+00,  1.82665606e+00,\n",
       "        5.92650263e-02, -3.64127727e-01, -5.89875644e-01,  2.68682889e+00,\n",
       "        2.30446057e+00,  2.44726287e+00,  2.48850428e-01, -1.69205312e-01,\n",
       "        1.98841546e+00,  1.44897893e-01, -7.65343263e-01, -7.05214218e-01,\n",
       "       -4.03779174e-01,  5.29606542e-01,  2.28127398e-01, -6.10235347e-01,\n",
       "        1.35080511e+00,  7.54907066e-01,  9.33152208e-02, -1.97898446e-01,\n",
       "       -2.65386719e-01,  1.71333572e+00,  2.39028587e-01, -9.83960972e-01,\n",
       "       -3.62853693e-01,  2.08635043e-02, -6.21692499e-01,  6.25347078e-01,\n",
       "       -2.39140864e-01,  1.49443615e+00, -1.72964214e-01,  6.61084675e-01,\n",
       "        2.41973601e+00,  4.36402833e-01,  5.25828419e-01, -2.34919061e-03,\n",
       "       -4.95224705e-01, -6.79252614e-01,  1.15565275e-02, -1.83781361e-01,\n",
       "        1.41775526e+00, -7.61814738e-01,  1.18229405e+00,  4.61592800e-01,\n",
       "       -1.62455601e+00, -5.30580528e-01, -7.14755226e-02,  4.20901190e-01,\n",
       "        1.68883022e+00, -4.06161218e-01, -2.50615611e-01, -7.40865374e-01,\n",
       "        2.72992445e-01,  4.35685033e-01,  8.98474584e-02,  9.86708619e-01,\n",
       "       -3.27541881e-01, -1.70114501e+00,  3.26589507e-01,  1.49581979e+00,\n",
       "       -1.58406958e-01,  3.49787974e-01, -1.11295320e+00, -6.19699866e-01,\n",
       "       -1.77383063e+00,  3.74566958e-01,  7.25522509e-01,  3.36001423e-01,\n",
       "        1.30482994e-01,  4.09326380e-01,  4.69611365e-01, -1.48572870e-01,\n",
       "        1.55890090e+00,  1.23801492e-01,  1.04988994e-01, -1.40127407e+00])"
      ]
     },
     "execution_count": 54,
     "metadata": {},
     "output_type": "execute_result"
    }
   ],
   "source": [
    "arr = np.random.standard_normal(100)\n",
    "arr"
   ]
  },
  {
   "cell_type": "code",
   "execution_count": 56,
   "id": "3346f25b",
   "metadata": {},
   "outputs": [
    {
     "data": {
      "text/plain": [
       "52"
      ]
     },
     "execution_count": 56,
     "metadata": {},
     "output_type": "execute_result"
    }
   ],
   "source": [
    "(arr>0).sum()"
   ]
  },
  {
   "cell_type": "code",
   "execution_count": 57,
   "id": "8a0613a9",
   "metadata": {},
   "outputs": [
    {
     "data": {
      "text/plain": [
       "48"
      ]
     },
     "execution_count": 57,
     "metadata": {},
     "output_type": "execute_result"
    }
   ],
   "source": [
    "(arr<=0).sum()"
   ]
  },
  {
   "cell_type": "code",
   "execution_count": 58,
   "id": "c03a16a5",
   "metadata": {},
   "outputs": [
    {
     "data": {
      "text/plain": [
       "array([False,  True, False,  True])"
      ]
     },
     "execution_count": 58,
     "metadata": {},
     "output_type": "execute_result"
    }
   ],
   "source": [
    "#any and all()\n",
    "\n",
    "bool = np.array([False, True, False, True])\n",
    "bool"
   ]
  },
  {
   "cell_type": "code",
   "execution_count": 59,
   "id": "2dd86ff4",
   "metadata": {},
   "outputs": [
    {
     "data": {
      "text/plain": [
       "True"
      ]
     },
     "execution_count": 59,
     "metadata": {},
     "output_type": "execute_result"
    }
   ],
   "source": [
    "bool.any()"
   ]
  },
  {
   "cell_type": "code",
   "execution_count": 61,
   "id": "214127e4",
   "metadata": {},
   "outputs": [
    {
     "data": {
      "text/plain": [
       "False"
      ]
     },
     "execution_count": 61,
     "metadata": {},
     "output_type": "execute_result"
    }
   ],
   "source": [
    "bool.all()"
   ]
  },
  {
   "cell_type": "code",
   "execution_count": 64,
   "id": "e56f0daa",
   "metadata": {},
   "outputs": [
    {
     "data": {
      "text/plain": [
       "array([ 0.04066745,  1.4281235 , -0.65172455, -0.82453341,  0.48201699,\n",
       "        0.33293257, -2.08717033,  0.41715861])"
      ]
     },
     "execution_count": 64,
     "metadata": {},
     "output_type": "execute_result"
    }
   ],
   "source": [
    "#sorting \n",
    "arr = np.random.standard_normal(8) \n",
    "arr"
   ]
  },
  {
   "cell_type": "code",
   "execution_count": 66,
   "id": "e48110df",
   "metadata": {},
   "outputs": [
    {
     "data": {
      "text/plain": [
       "array([-2.08717033, -0.82453341, -0.65172455,  0.04066745,  0.33293257,\n",
       "        0.41715861,  0.48201699,  1.4281235 ])"
      ]
     },
     "execution_count": 66,
     "metadata": {},
     "output_type": "execute_result"
    }
   ],
   "source": [
    "arr.sort()\n",
    "arr"
   ]
  },
  {
   "cell_type": "code",
   "execution_count": 67,
   "id": "61dbab5f",
   "metadata": {},
   "outputs": [
    {
     "data": {
      "text/plain": [
       "array(['Bob', 'Will', 'Joe', 'Bob', 'Will', 'Joe', 'Joe'], dtype='<U4')"
      ]
     },
     "execution_count": 67,
     "metadata": {},
     "output_type": "execute_result"
    }
   ],
   "source": [
    "# unique \n",
    "names = np.array([\"Bob\", \"Will\", \"Joe\", \"Bob\", \"Will\", \"Joe\", \"Joe\"])\n",
    "names"
   ]
  },
  {
   "cell_type": "code",
   "execution_count": 68,
   "id": "342447a1",
   "metadata": {},
   "outputs": [
    {
     "data": {
      "text/plain": [
       "array(['Bob', 'Joe', 'Will'], dtype='<U4')"
      ]
     },
     "execution_count": 68,
     "metadata": {},
     "output_type": "execute_result"
    }
   ],
   "source": [
    "np.unique(names)"
   ]
  },
  {
   "cell_type": "markdown",
   "id": "17d15d70",
   "metadata": {},
   "source": [
    "## Linear Algebra"
   ]
  },
  {
   "cell_type": "code",
   "execution_count": 70,
   "id": "8f375558",
   "metadata": {},
   "outputs": [],
   "source": [
    "x = np.array([[1., 2., 3.], [4., 5., 6.]])\n",
    "y = np.array([[6., 23.], [-1, 7], [8, 9]])"
   ]
  },
  {
   "cell_type": "code",
   "execution_count": 71,
   "id": "36448d07",
   "metadata": {},
   "outputs": [
    {
     "data": {
      "text/plain": [
       "array([[1., 2., 3.],\n",
       "       [4., 5., 6.]])"
      ]
     },
     "execution_count": 71,
     "metadata": {},
     "output_type": "execute_result"
    }
   ],
   "source": [
    "x"
   ]
  },
  {
   "cell_type": "code",
   "execution_count": 72,
   "id": "6dc54b3e",
   "metadata": {},
   "outputs": [
    {
     "data": {
      "text/plain": [
       "array([[ 6., 23.],\n",
       "       [-1.,  7.],\n",
       "       [ 8.,  9.]])"
      ]
     },
     "execution_count": 72,
     "metadata": {},
     "output_type": "execute_result"
    }
   ],
   "source": [
    "y"
   ]
  },
  {
   "cell_type": "code",
   "execution_count": 76,
   "id": "3e595da9",
   "metadata": {},
   "outputs": [
    {
     "data": {
      "text/plain": [
       "array([[ 28.,  64.],\n",
       "       [ 67., 181.]])"
      ]
     },
     "execution_count": 76,
     "metadata": {},
     "output_type": "execute_result"
    }
   ],
   "source": [
    "x.dot(y) #Dot product of two arrays."
   ]
  },
  {
   "cell_type": "code",
   "execution_count": 78,
   "id": "273e23d4",
   "metadata": {},
   "outputs": [
    {
     "data": {
      "text/plain": [
       "array([[ 28.,  64.],\n",
       "       [ 67., 181.]])"
      ]
     },
     "execution_count": 78,
     "metadata": {},
     "output_type": "execute_result"
    }
   ],
   "source": [
    "np.dot(x,y)"
   ]
  },
  {
   "cell_type": "code",
   "execution_count": 79,
   "id": "fa7f9852",
   "metadata": {},
   "outputs": [
    {
     "data": {
      "text/plain": [
       "array([[ 28.,  64.],\n",
       "       [ 67., 181.]])"
      ]
     },
     "execution_count": 79,
     "metadata": {},
     "output_type": "execute_result"
    }
   ],
   "source": [
    "x @y "
   ]
  },
  {
   "cell_type": "code",
   "execution_count": 98,
   "id": "7f1a1d39",
   "metadata": {},
   "outputs": [
    {
     "data": {
      "text/plain": [
       "array([[-0.25838144, -1.03722487, -1.75828617,  0.11613795, -0.17949715],\n",
       "       [ 0.06605641, -0.37118937,  0.12310942,  1.01674854,  1.53620157],\n",
       "       [ 0.28453147,  0.92073859, -0.82706438, -0.49913565,  2.69993491],\n",
       "       [ 0.4831364 ,  0.54257379,  0.24263271,  0.39627613, -0.54360408],\n",
       "       [ 1.89085016, -0.92045442, -0.0351499 ,  0.47043093, -1.7168575 ]])"
      ]
     },
     "execution_count": 98,
     "metadata": {},
     "output_type": "execute_result"
    }
   ],
   "source": [
    "# linalg library\n",
    "\n",
    "from numpy.linalg import inv, qr\n",
    "X = np.random.standard_normal((5,5))\n",
    "X"
   ]
  },
  {
   "cell_type": "code",
   "execution_count": 99,
   "id": "061e18f0",
   "metadata": {},
   "outputs": [
    {
     "data": {
      "text/plain": [
       "array([[ 3.96081768, -0.97284491,  0.27787634,  0.97610489, -2.59288405],\n",
       "       [-0.97284491,  3.20299918,  1.18053117, -1.17544206,  3.38723522],\n",
       "       [ 0.27787634,  1.18053117,  3.85086783,  0.41339884, -1.79984052],\n",
       "       [ 0.97610489, -1.17544206,  0.41339884,  1.67474205, -0.82962969],\n",
       "       [-2.59288405,  3.38723522, -1.79984052, -0.82962969, 12.92488807]])"
      ]
     },
     "execution_count": 99,
     "metadata": {},
     "output_type": "execute_result"
    }
   ],
   "source": [
    "mat = X.T @ X\n",
    "mat"
   ]
  },
  {
   "cell_type": "code",
   "execution_count": 100,
   "id": "a564f4b8",
   "metadata": {},
   "outputs": [
    {
     "data": {
      "text/plain": [
       "array([[ 0.34410128, -0.12996531,  0.08952467, -0.26505576,  0.09854397],\n",
       "       [-0.12996531,  1.28888351, -0.67310068,  0.95005384, -0.39660054],\n",
       "       [ 0.08952467, -0.67310068,  0.63497998, -0.55903608,  0.2468994 ],\n",
       "       [-0.26505576,  0.95005384, -0.55903608,  1.41308296, -0.28929882],\n",
       "       [ 0.09854397, -0.39660054,  0.2468994 , -0.28929882,  0.21688861]])"
      ]
     },
     "execution_count": 100,
     "metadata": {},
     "output_type": "execute_result"
    }
   ],
   "source": [
    "# inverse of matrix \n",
    "inv(mat)"
   ]
  },
  {
   "cell_type": "code",
   "execution_count": 101,
   "id": "0ad266a2",
   "metadata": {},
   "outputs": [
    {
     "data": {
      "text/plain": [
       "array([[ 1.00000000e+00, -3.99496524e-16,  1.25080938e-16,\n",
       "         2.60583194e-16, -3.70258696e-17],\n",
       "       [ 1.91846177e-17,  1.00000000e+00,  3.96630967e-17,\n",
       "        -5.50531320e-16,  1.26686004e-16],\n",
       "       [ 5.20661910e-17, -5.19778238e-16,  1.00000000e+00,\n",
       "        -2.22812543e-17,  9.53038354e-17],\n",
       "       [ 1.03584837e-16,  2.64112015e-16,  8.16348148e-17,\n",
       "         1.00000000e+00, -1.43037133e-17],\n",
       "       [-2.22759421e-16, -4.96955386e-16, -5.37553193e-16,\n",
       "         3.31259229e-16,  1.00000000e+00]])"
      ]
     },
     "execution_count": 101,
     "metadata": {},
     "output_type": "execute_result"
    }
   ],
   "source": [
    "mat @ inv(mat)"
   ]
  },
  {
   "cell_type": "markdown",
   "id": "2e070f47",
   "metadata": {},
   "source": [
    "## Random Walk"
   ]
  },
  {
   "cell_type": "code",
   "execution_count": 120,
   "id": "d6fa67b0",
   "metadata": {},
   "outputs": [],
   "source": [
    "# Base Python\n",
    "\n",
    "import random\n",
    "position = 0 \n",
    "walk = [position]\n",
    "nsteps = 1000\n",
    "\n",
    "for _ in range(nsteps):\n",
    "    step =1 if random.randint(0,1) else -1\n",
    "    position += step\n",
    "    walk.append(position)"
   ]
  },
  {
   "cell_type": "code",
   "execution_count": 121,
   "id": "0f6385c6",
   "metadata": {},
   "outputs": [
    {
     "data": {
      "image/png": "[encoded data removed]",
      "text/plain": [
       "<Figure size 640x480 with 1 Axes>"
      ]
     },
     "metadata": {},
     "output_type": "display_data"
    }
   ],
   "source": [
    "plt.plot(walk[:100]);"
   ]
  },
  {
   "cell_type": "code",
   "execution_count": 133,
   "id": "19cf8cff",
   "metadata": {},
   "outputs": [],
   "source": [
    "# Numpy coin flip\n",
    "nsteps = 100\n",
    "rng = np.random.default_rng(seed= 12345) # fresh random number\n",
    "draw = rng.integers(0,2, size = nsteps)\n",
    "steps = np.where(draw ==0, 1, -1)\n",
    "walk = steps.cumsum()"
   ]
  },
  {
   "cell_type": "code",
   "execution_count": 134,
   "id": "957a1603",
   "metadata": {},
   "outputs": [
    {
     "data": {
      "text/plain": [
       "-8"
      ]
     },
     "execution_count": 134,
     "metadata": {},
     "output_type": "execute_result"
    }
   ],
   "source": [
    "walk.min()"
   ]
  },
  {
   "cell_type": "code",
   "execution_count": 135,
   "id": "1789ac03",
   "metadata": {},
   "outputs": [
    {
     "data": {
      "text/plain": [
       "9"
      ]
     },
     "execution_count": 135,
     "metadata": {},
     "output_type": "execute_result"
    }
   ],
   "source": [
    "walk.max()"
   ]
  },
  {
   "cell_type": "code",
   "execution_count": 136,
   "id": "bbbfd07c",
   "metadata": {},
   "outputs": [
    {
     "data": {
      "text/plain": [
       "[<matplotlib.lines.Line2D at 0x1a22f17b790>]"
      ]
     },
     "execution_count": 136,
     "metadata": {},
     "output_type": "execute_result"
    },
    {
     "data": {
      "image/png": "[encoded data removed]",
      "text/plain": [
       "<Figure size 640x480 with 1 Axes>"
      ]
     },
     "metadata": {},
     "output_type": "display_data"
    }
   ],
   "source": [
    "plt.plot(walk)"
   ]
  },
  {
   "cell_type": "code",
   "execution_count": null,
   "id": "54b1b4da",
   "metadata": {},
   "outputs": [],
   "source": []
  }
 ],
 "metadata": {
  "kernelspec": {
   "display_name": "Python 3 (ipykernel)",
   "language": "python",
   "name": "python3"
  },
  "language_info": {
   "codemirror_mode": {
    "name": "ipython",
    "version": 3
   },
   "file_extension": ".py",
   "mimetype": "text/x-python",
   "name": "python",
   "nbconvert_exporter": "python",
   "pygments_lexer": "ipython3",
   "version": "3.10.10"
  }
 },
 "nbformat": 4,
 "nbformat_minor": 5
}
