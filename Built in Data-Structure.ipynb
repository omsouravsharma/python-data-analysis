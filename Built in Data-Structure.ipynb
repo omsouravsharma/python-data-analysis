{
 "cells": [
  {
   "cell_type": "markdown",
   "id": "af7c52d6",
   "metadata": {},
   "source": [
    "# Data Structure and sequence"
   ]
  },
  {
   "cell_type": "markdown",
   "id": "bafd0e88",
   "metadata": {},
   "source": [
    "## Tuple - Immutable fixed length object"
   ]
  },
  {
   "cell_type": "code",
   "execution_count": 1,
   "id": "47b4d17d",
   "metadata": {},
   "outputs": [
    {
     "data": {
      "text/plain": [
       "(3, 54, 3)"
      ]
     },
     "execution_count": 1,
     "metadata": {},
     "output_type": "execute_result"
    }
   ],
   "source": [
    "tup = (3,54,3)\n",
    "tup"
   ]
  },
  {
   "cell_type": "code",
   "execution_count": 2,
   "id": "6d88fccf",
   "metadata": {},
   "outputs": [
    {
     "data": {
      "text/plain": [
       "(3, 45, 5)"
      ]
     },
     "execution_count": 2,
     "metadata": {},
     "output_type": "execute_result"
    }
   ],
   "source": [
    "a = 3,45,5\n",
    "a"
   ]
  },
  {
   "cell_type": "code",
   "execution_count": 3,
   "id": "2686bee2",
   "metadata": {},
   "outputs": [
    {
     "data": {
      "text/plain": [
       "('s', 't', 'r', 'i', 'n', 'g')"
      ]
     },
     "execution_count": 3,
     "metadata": {},
     "output_type": "execute_result"
    }
   ],
   "source": [
    "tup = tuple('string')\n",
    "tup"
   ]
  },
  {
   "cell_type": "code",
   "execution_count": 4,
   "id": "45b5d02d",
   "metadata": {},
   "outputs": [
    {
     "data": {
      "text/plain": [
       "'i'"
      ]
     },
     "execution_count": 4,
     "metadata": {},
     "output_type": "execute_result"
    }
   ],
   "source": [
    "# tuple is iterable \n",
    "tup[3]"
   ]
  },
  {
   "cell_type": "code",
   "execution_count": 5,
   "id": "2545bd61",
   "metadata": {},
   "outputs": [
    {
     "name": "stdout",
     "output_type": "stream",
     "text": [
      "s\n",
      "t\n",
      "r\n",
      "i\n",
      "n\n",
      "g\n"
     ]
    }
   ],
   "source": [
    "for value in tup:\n",
    "    print(value)"
   ]
  },
  {
   "cell_type": "code",
   "execution_count": 6,
   "id": "2ba8c64b",
   "metadata": {},
   "outputs": [
    {
     "data": {
      "text/plain": [
       "('s', 't', 'r', 'i', 'n', 'g', 3, 56, 61)"
      ]
     },
     "execution_count": 6,
     "metadata": {},
     "output_type": "execute_result"
    }
   ],
   "source": [
    "# concatination\n",
    "tup + (3,56,61) "
   ]
  },
  {
   "cell_type": "code",
   "execution_count": 7,
   "id": "c6b7ba46",
   "metadata": {},
   "outputs": [
    {
     "data": {
      "text/plain": [
       "2"
      ]
     },
     "execution_count": 7,
     "metadata": {},
     "output_type": "execute_result"
    }
   ],
   "source": [
    "# unpacking tuple \n",
    "tup = (2,4,5)\n",
    "a,b,c = tup\n",
    "a"
   ]
  },
  {
   "cell_type": "code",
   "execution_count": 8,
   "id": "1812d2d9",
   "metadata": {},
   "outputs": [
    {
     "name": "stdout",
     "output_type": "stream",
     "text": [
      "2\n",
      "4\n",
      "4\n",
      "2\n"
     ]
    }
   ],
   "source": [
    "# swapping in python\n",
    "print(a);print(b)\n",
    "a, b = b,a \n",
    "print(a);print(b)\n",
    "\n"
   ]
  },
  {
   "cell_type": "code",
   "execution_count": 9,
   "id": "15dfcd62",
   "metadata": {},
   "outputs": [
    {
     "name": "stdout",
     "output_type": "stream",
     "text": [
      "a=1, b=2, c=3\n",
      "a=4, b=5, c=6\n",
      "a=7, b=8, c=9\n"
     ]
    }
   ],
   "source": [
    "seq = [(1, 2, 3), (4, 5, 6), (7, 8, 9)]\n",
    "\n",
    "for a,b,c in seq:\n",
    "    print(f\"a={a}, b={b}, c={c}\")"
   ]
  },
  {
   "cell_type": "code",
   "execution_count": 10,
   "id": "0a9f3aaa",
   "metadata": {},
   "outputs": [
    {
     "data": {
      "text/plain": [
       "[5, 21, 1, 1]"
      ]
     },
     "execution_count": 10,
     "metadata": {},
     "output_type": "execute_result"
    }
   ],
   "source": [
    "tup = (2,4,5,21,1,1)\n",
    "a, b, *_ = tup\n",
    "_"
   ]
  },
  {
   "cell_type": "code",
   "execution_count": 11,
   "id": "253fd746",
   "metadata": {},
   "outputs": [
    {
     "data": {
      "text/plain": [
       "2"
      ]
     },
     "execution_count": 11,
     "metadata": {},
     "output_type": "execute_result"
    }
   ],
   "source": [
    "tup.count(1)"
   ]
  },
  {
   "cell_type": "code",
   "execution_count": 12,
   "id": "968d1ef4",
   "metadata": {},
   "outputs": [
    {
     "data": {
      "text/plain": [
       "2"
      ]
     },
     "execution_count": 12,
     "metadata": {},
     "output_type": "execute_result"
    }
   ],
   "source": [
    "tup.index(5)"
   ]
  },
  {
   "cell_type": "markdown",
   "id": "c175f797",
   "metadata": {},
   "source": [
    "## list - Mutable with []\n"
   ]
  },
  {
   "cell_type": "code",
   "execution_count": 13,
   "id": "a2caefa8",
   "metadata": {},
   "outputs": [
    {
     "data": {
      "text/plain": [
       "[1, 4, 5, None]"
      ]
     },
     "execution_count": 13,
     "metadata": {},
     "output_type": "execute_result"
    }
   ],
   "source": [
    "alist = [1,4,5, None]\n",
    "alist"
   ]
  },
  {
   "cell_type": "code",
   "execution_count": 14,
   "id": "0a66efbe",
   "metadata": {},
   "outputs": [
    {
     "data": {
      "text/plain": [
       "['s', 't', 'r', 'i', 'n', 'g']"
      ]
     },
     "execution_count": 14,
     "metadata": {},
     "output_type": "execute_result"
    }
   ],
   "source": [
    "tup= ('string')\n",
    "list(tup)"
   ]
  },
  {
   "cell_type": "code",
   "execution_count": 15,
   "id": "bf78f0d6",
   "metadata": {},
   "outputs": [
    {
     "data": {
      "text/plain": [
       "[1, 4, 5, None, 0]"
      ]
     },
     "execution_count": 15,
     "metadata": {},
     "output_type": "execute_result"
    }
   ],
   "source": [
    "# adding and removing element \n",
    "# adding - append, insert\n",
    "# removing - pop and remove method\n",
    "alist.append(0)\n",
    "alist"
   ]
  },
  {
   "cell_type": "code",
   "execution_count": 16,
   "id": "e30b7017",
   "metadata": {},
   "outputs": [
    {
     "data": {
      "text/plain": [
       "[1, 4, 10, 5, None, 0]"
      ]
     },
     "execution_count": 16,
     "metadata": {},
     "output_type": "execute_result"
    }
   ],
   "source": [
    "alist.insert(2,10)\n",
    "alist"
   ]
  },
  {
   "cell_type": "code",
   "execution_count": 17,
   "id": "eb308896",
   "metadata": {},
   "outputs": [
    {
     "data": {
      "text/plain": [
       "[4, 10, 5, None, 0]"
      ]
     },
     "execution_count": 17,
     "metadata": {},
     "output_type": "execute_result"
    }
   ],
   "source": [
    "alist.pop(0)\n",
    "alist"
   ]
  },
  {
   "cell_type": "code",
   "execution_count": 18,
   "id": "f9e243bc",
   "metadata": {},
   "outputs": [
    {
     "data": {
      "text/plain": [
       "[4, 10, None, 0]"
      ]
     },
     "execution_count": 18,
     "metadata": {},
     "output_type": "execute_result"
    }
   ],
   "source": [
    "alist.remove(5)\n",
    "alist"
   ]
  },
  {
   "cell_type": "code",
   "execution_count": 19,
   "id": "e272c928",
   "metadata": {},
   "outputs": [
    {
     "data": {
      "text/plain": [
       "[4, 10, None, 0]"
      ]
     },
     "execution_count": 19,
     "metadata": {},
     "output_type": "execute_result"
    }
   ],
   "source": [
    "alist"
   ]
  },
  {
   "cell_type": "code",
   "execution_count": 20,
   "id": "a2ba5d26",
   "metadata": {},
   "outputs": [
    {
     "data": {
      "text/plain": [
       "True"
      ]
     },
     "execution_count": 20,
     "metadata": {},
     "output_type": "execute_result"
    }
   ],
   "source": [
    "# check if element is present in the list\n",
    "0 in alist"
   ]
  },
  {
   "cell_type": "code",
   "execution_count": 21,
   "id": "43a51178",
   "metadata": {},
   "outputs": [
    {
     "data": {
      "text/plain": [
       "False"
      ]
     },
     "execution_count": 21,
     "metadata": {},
     "output_type": "execute_result"
    }
   ],
   "source": [
    "100 in alist"
   ]
  },
  {
   "cell_type": "code",
   "execution_count": 22,
   "id": "612309db",
   "metadata": {},
   "outputs": [
    {
     "data": {
      "text/plain": [
       "True"
      ]
     },
     "execution_count": 22,
     "metadata": {},
     "output_type": "execute_result"
    }
   ],
   "source": [
    "100 not in alist"
   ]
  },
  {
   "cell_type": "code",
   "execution_count": 23,
   "id": "007bc670",
   "metadata": {},
   "outputs": [
    {
     "data": {
      "text/plain": [
       "[4, 10, None, 0, 4, 2, 5, (4, 5)]"
      ]
     },
     "execution_count": 23,
     "metadata": {},
     "output_type": "execute_result"
    }
   ],
   "source": [
    "# concatination in list \n",
    "alist + [4,2,5,(4,5)]"
   ]
  },
  {
   "cell_type": "code",
   "execution_count": 24,
   "id": "6365be4b",
   "metadata": {},
   "outputs": [
    {
     "data": {
      "text/plain": [
       "[4, 10, None, 0, 3, 4, 34]"
      ]
     },
     "execution_count": 24,
     "metadata": {},
     "output_type": "execute_result"
    }
   ],
   "source": [
    "alist.extend([3,4,34])\n",
    "alist\n",
    "# extend is more preferable because + can be more expensive operation"
   ]
  },
  {
   "cell_type": "code",
   "execution_count": 25,
   "id": "e5bba7d9",
   "metadata": {},
   "outputs": [
    {
     "data": {
      "text/plain": [
       "[4, 10, 0, 3, 4, 34]"
      ]
     },
     "execution_count": 25,
     "metadata": {},
     "output_type": "execute_result"
    }
   ],
   "source": [
    "alist.remove(None)\n",
    "alist"
   ]
  },
  {
   "cell_type": "code",
   "execution_count": 26,
   "id": "74bdc497",
   "metadata": {},
   "outputs": [
    {
     "data": {
      "text/plain": [
       "[0, 3, 4, 4, 10, 34]"
      ]
     },
     "execution_count": 26,
     "metadata": {},
     "output_type": "execute_result"
    }
   ],
   "source": [
    "# sorting\n",
    "alist.sort()\n",
    "alist"
   ]
  },
  {
   "cell_type": "code",
   "execution_count": 27,
   "id": "3123ecaf",
   "metadata": {},
   "outputs": [
    {
     "data": {
      "text/plain": [
       "[4, 4, 10]"
      ]
     },
     "execution_count": 27,
     "metadata": {},
     "output_type": "execute_result"
    }
   ],
   "source": [
    "# slicing\n",
    "alist[2:5]\n",
    "# number of element is stop - start #3 element as per this example "
   ]
  },
  {
   "cell_type": "markdown",
   "id": "80a36a2f",
   "metadata": {},
   "source": [
    "## Dictionary - mutable with {}"
   ]
  },
  {
   "cell_type": "code",
   "execution_count": 28,
   "id": "f5967d53",
   "metadata": {},
   "outputs": [],
   "source": [
    "emptydict  = {}"
   ]
  },
  {
   "cell_type": "code",
   "execution_count": 29,
   "id": "97bf5e6f",
   "metadata": {},
   "outputs": [
    {
     "data": {
      "text/plain": [
       "{'a': [2, 44, 3], 'b': (3, 4)}"
      ]
     },
     "execution_count": 29,
     "metadata": {},
     "output_type": "execute_result"
    }
   ],
   "source": [
    "d1 = {'a': [2,44,3], 'b': (3,4)}\n",
    "d1\n"
   ]
  },
  {
   "cell_type": "code",
   "execution_count": 30,
   "id": "0b2f1495",
   "metadata": {},
   "outputs": [
    {
     "data": {
      "text/plain": [
       "{'a': [2, 44, 3], 'b': (3, 4), 3: 'string'}"
      ]
     },
     "execution_count": 30,
     "metadata": {},
     "output_type": "execute_result"
    }
   ],
   "source": [
    "# insering in dictionary\n",
    "d1[3] = 'string'\n",
    "d1\n"
   ]
  },
  {
   "cell_type": "code",
   "execution_count": 31,
   "id": "e24b2fcb",
   "metadata": {},
   "outputs": [
    {
     "data": {
      "text/plain": [
       "True"
      ]
     },
     "execution_count": 31,
     "metadata": {},
     "output_type": "execute_result"
    }
   ],
   "source": [
    "# check if value is avaiable in dictionary \n",
    "3 in d1"
   ]
  },
  {
   "cell_type": "code",
   "execution_count": 32,
   "id": "8bfd198d",
   "metadata": {},
   "outputs": [
    {
     "data": {
      "text/plain": [
       "False"
      ]
     },
     "execution_count": 32,
     "metadata": {},
     "output_type": "execute_result"
    }
   ],
   "source": [
    "4 in d1"
   ]
  },
  {
   "cell_type": "code",
   "execution_count": 33,
   "id": "a2f7a1e0",
   "metadata": {},
   "outputs": [
    {
     "data": {
      "text/plain": [
       "{'a': [2, 44, 3], 'b': (3, 4), 3: 'string', 'c': (3, 4, 2)}"
      ]
     },
     "execution_count": 33,
     "metadata": {},
     "output_type": "execute_result"
    }
   ],
   "source": [
    "d1['c'] = (3,4,2)\n",
    "d1"
   ]
  },
  {
   "cell_type": "code",
   "execution_count": 34,
   "id": "aa25d974",
   "metadata": {},
   "outputs": [
    {
     "data": {
      "text/plain": [
       "{'a': [2, 44, 3],\n",
       " 'b': (3, 4),\n",
       " 3: 'string',\n",
       " 'c': (3, 4, 2),\n",
       " 'dummy_value': 'value x'}"
      ]
     },
     "execution_count": 34,
     "metadata": {},
     "output_type": "execute_result"
    }
   ],
   "source": [
    "d1['dummy_value'] = 'value x'\n",
    "d1"
   ]
  },
  {
   "cell_type": "code",
   "execution_count": 35,
   "id": "5b9d05b8",
   "metadata": {},
   "outputs": [
    {
     "data": {
      "text/plain": [
       "{'a': [2, 44, 3], 'b': (3, 4), 'c': (3, 4, 2), 'dummy_value': 'value x'}"
      ]
     },
     "execution_count": 35,
     "metadata": {},
     "output_type": "execute_result"
    }
   ],
   "source": [
    "# deleting values from the dictionary\n",
    "\n",
    "del d1[3]\n",
    "d1"
   ]
  },
  {
   "cell_type": "code",
   "execution_count": 36,
   "id": "65645c99",
   "metadata": {},
   "outputs": [
    {
     "data": {
      "text/plain": [
       "{'a': [2, 44, 3], 'b': (3, 4), 'c': (3, 4, 2)}"
      ]
     },
     "execution_count": 36,
     "metadata": {},
     "output_type": "execute_result"
    }
   ],
   "source": [
    "#pop\n",
    "d1.pop('dummy_value')\n",
    "d1"
   ]
  },
  {
   "cell_type": "code",
   "execution_count": 37,
   "id": "96f4f56c",
   "metadata": {},
   "outputs": [
    {
     "data": {
      "text/plain": [
       "dict_keys(['a', 'b', 'c'])"
      ]
     },
     "execution_count": 37,
     "metadata": {},
     "output_type": "execute_result"
    }
   ],
   "source": [
    "d1.keys() # To view keys"
   ]
  },
  {
   "cell_type": "code",
   "execution_count": 38,
   "id": "1ad929a4",
   "metadata": {},
   "outputs": [
    {
     "data": {
      "text/plain": [
       "dict_values([[2, 44, 3], (3, 4), (3, 4, 2)])"
      ]
     },
     "execution_count": 38,
     "metadata": {},
     "output_type": "execute_result"
    }
   ],
   "source": [
    "d1.values() # To view values"
   ]
  },
  {
   "cell_type": "code",
   "execution_count": 39,
   "id": "b419271d",
   "metadata": {},
   "outputs": [
    {
     "data": {
      "text/plain": [
       "dict_items([('a', [2, 44, 3]), ('b', (3, 4)), ('c', (3, 4, 2))])"
      ]
     },
     "execution_count": 39,
     "metadata": {},
     "output_type": "execute_result"
    }
   ],
   "source": [
    "d1.items() # to view key - value tuple"
   ]
  },
  {
   "cell_type": "code",
   "execution_count": 40,
   "id": "be06ef29",
   "metadata": {},
   "outputs": [
    {
     "data": {
      "text/plain": [
       "{'a': [2, 44, 3], 'b': (3, 4), 'c': (3, 4, 2), 'd': [3, 5, 2, 1], 'e': 'Name'}"
      ]
     },
     "execution_count": 40,
     "metadata": {},
     "output_type": "execute_result"
    }
   ],
   "source": [
    "# update dictionary \n",
    "d1.update({'d':[3,5,2,1], 'e':'Name'})\n",
    "d1"
   ]
  },
  {
   "cell_type": "code",
   "execution_count": 41,
   "id": "ed1d776f",
   "metadata": {},
   "outputs": [
    {
     "data": {
      "text/plain": [
       "<zip at 0x2046d07fdc0>"
      ]
     },
     "execution_count": 41,
     "metadata": {},
     "output_type": "execute_result"
    }
   ],
   "source": [
    "# creating dictonary with sequence \n",
    "tuples = zip(range(4), reversed(range(4)))\n",
    "tuples"
   ]
  },
  {
   "cell_type": "code",
   "execution_count": 42,
   "id": "2dc7d456",
   "metadata": {},
   "outputs": [
    {
     "data": {
      "text/plain": [
       "{0: 3, 1: 2, 2: 1, 3: 0}"
      ]
     },
     "execution_count": 42,
     "metadata": {},
     "output_type": "execute_result"
    }
   ],
   "source": [
    "dict(tuples)"
   ]
  },
  {
   "cell_type": "code",
   "execution_count": 43,
   "id": "facd6806",
   "metadata": {},
   "outputs": [
    {
     "data": {
      "text/plain": [
       "{'a': ['apple', 'atom'],\n",
       " 'b': ['bag'],\n",
       " 'c': ['cat', 'car'],\n",
       " 's': ['soccer', 'sky'],\n",
       " 'o': ['orange']}"
      ]
     },
     "execution_count": 43,
     "metadata": {},
     "output_type": "execute_result"
    }
   ],
   "source": [
    "# create a word dictionary \n",
    "words = ['apple', 'bag', 'cat', 'atom', 'car', 'soccer', 'sky', 'orange']\n",
    "word_dic = {}\n",
    "\n",
    "for word in words:\n",
    "    letter = word[0]\n",
    "    if letter not in word_dic:\n",
    "        word_dic.update({letter:[word]})\n",
    "    else:\n",
    "        word_dic[letter].append(word)\n",
    "\n",
    "\n",
    "word_dic"
   ]
  },
  {
   "cell_type": "code",
   "execution_count": 44,
   "id": "21452747",
   "metadata": {},
   "outputs": [
    {
     "data": {
      "text/plain": [
       "{'a': ['apple', 'atom'],\n",
       " 'b': ['bag'],\n",
       " 'c': ['cat', 'car'],\n",
       " 's': ['soccer', 'sky'],\n",
       " 'o': ['orange'],\n",
       " 'p': ['python']}"
      ]
     },
     "execution_count": 44,
     "metadata": {},
     "output_type": "execute_result"
    }
   ],
   "source": [
    "# create a word dictionary \n",
    "words = ['apple', 'bag', 'cat', 'atom', 'car', 'soccer', 'sky', 'orange', 'python']\n",
    "word_dic = {}\n",
    "\n",
    "for word in words:\n",
    "    letter = word[0]\n",
    "    word_dic.setdefault(letter, []).append(word)\n",
    "\n",
    "word_dic"
   ]
  },
  {
   "cell_type": "code",
   "execution_count": 45,
   "id": "16ff7347",
   "metadata": {},
   "outputs": [
    {
     "data": {
      "text/plain": [
       "defaultdict(list,\n",
       "            {'a': ['apple', 'atom'],\n",
       "             'b': ['bag'],\n",
       "             'c': ['cat', 'car'],\n",
       "             's': ['soccer', 'sky'],\n",
       "             'o': ['orange'],\n",
       "             'p': ['python']})"
      ]
     },
     "execution_count": 45,
     "metadata": {},
     "output_type": "execute_result"
    }
   ],
   "source": [
    "# create a word dictionary \n",
    "from collections import defaultdict\n",
    "words = ['apple', 'bag', 'cat', 'atom', 'car', 'soccer', 'sky', 'orange', 'python']\n",
    "word_dic = defaultdict(list)\n",
    "\n",
    "for word in words:\n",
    "    word_dic[word[0]].append(word)\n",
    "\n",
    "word_dic"
   ]
  },
  {
   "cell_type": "code",
   "execution_count": 46,
   "id": "c960917e",
   "metadata": {},
   "outputs": [
    {
     "data": {
      "text/plain": [
       "7450289479939015425"
      ]
     },
     "execution_count": 46,
     "metadata": {},
     "output_type": "execute_result"
    }
   ],
   "source": [
    "# Keys in dictionary need to be immutabale  means hashability\n",
    "\n",
    "hash(\"string\")"
   ]
  },
  {
   "cell_type": "code",
   "execution_count": 47,
   "id": "d24a6ab7",
   "metadata": {},
   "outputs": [
    {
     "data": {
      "text/plain": [
       "-4853818414746707237"
      ]
     },
     "execution_count": 47,
     "metadata": {},
     "output_type": "execute_result"
    }
   ],
   "source": [
    "hash((1,3,(3,3)))"
   ]
  },
  {
   "cell_type": "code",
   "execution_count": 48,
   "id": "ec774ce9",
   "metadata": {},
   "outputs": [
    {
     "ename": "TypeError",
     "evalue": "unhashable type: 'list'",
     "output_type": "error",
     "traceback": [
      "\u001b[1;31m---------------------------------------------------------------------------\u001b[0m",
      "\u001b[1;31mTypeError\u001b[0m                                 Traceback (most recent call last)",
      "Cell \u001b[1;32mIn[48], line 1\u001b[0m\n\u001b[1;32m----> 1\u001b[0m \u001b[38;5;28;43mhash\u001b[39;49m\u001b[43m(\u001b[49m\u001b[43m[\u001b[49m\u001b[38;5;241;43m1\u001b[39;49m\u001b[43m,\u001b[49m\u001b[38;5;241;43m34\u001b[39;49m\u001b[43m,\u001b[49m\u001b[38;5;241;43m2\u001b[39;49m\u001b[43m]\u001b[49m\u001b[43m)\u001b[49m\n",
      "\u001b[1;31mTypeError\u001b[0m: unhashable type: 'list'"
     ]
    }
   ],
   "source": [
    "hash([1,34,2])"
   ]
  },
  {
   "cell_type": "markdown",
   "id": "334df441",
   "metadata": {},
   "source": [
    "## Set  - Set in unorder collection of unique element\n"
   ]
  },
  {
   "cell_type": "code",
   "execution_count": 49,
   "id": "391e1d1e",
   "metadata": {},
   "outputs": [
    {
     "data": {
      "text/plain": [
       "{1, 2, 3}"
      ]
     },
     "execution_count": 49,
     "metadata": {},
     "output_type": "execute_result"
    }
   ],
   "source": [
    "set([2,3,2,1,1,1,1])"
   ]
  },
  {
   "cell_type": "code",
   "execution_count": 50,
   "id": "3c4a5765",
   "metadata": {},
   "outputs": [
    {
     "data": {
      "text/plain": [
       "{1, 2, 3, 4}"
      ]
     },
     "execution_count": 50,
     "metadata": {},
     "output_type": "execute_result"
    }
   ],
   "source": [
    "{1,2,3,2,3,4,3,2,2}"
   ]
  },
  {
   "cell_type": "code",
   "execution_count": 51,
   "id": "f1366066",
   "metadata": {},
   "outputs": [],
   "source": [
    "a = {1,2,3,4,5}\n",
    "b = {3,4,5,6,7,8}\n"
   ]
  },
  {
   "cell_type": "code",
   "execution_count": 52,
   "id": "4cb8b453",
   "metadata": {},
   "outputs": [
    {
     "data": {
      "text/plain": [
       "{1, 2, 3, 4, 5, 6, 7, 8}"
      ]
     },
     "execution_count": 52,
     "metadata": {},
     "output_type": "execute_result"
    }
   ],
   "source": [
    "a.union(b) # unique values from both set "
   ]
  },
  {
   "cell_type": "code",
   "execution_count": 53,
   "id": "26bb8b28",
   "metadata": {},
   "outputs": [
    {
     "data": {
      "text/plain": [
       "{3, 4, 5}"
      ]
     },
     "execution_count": 53,
     "metadata": {},
     "output_type": "execute_result"
    }
   ],
   "source": [
    "a.intersection(b) # common"
   ]
  },
  {
   "cell_type": "code",
   "execution_count": 54,
   "id": "95835055",
   "metadata": {},
   "outputs": [
    {
     "data": {
      "text/plain": [
       "{1, 2}"
      ]
     },
     "execution_count": 54,
     "metadata": {},
     "output_type": "execute_result"
    }
   ],
   "source": [
    "a.difference(b) # difference"
   ]
  },
  {
   "cell_type": "code",
   "execution_count": 55,
   "id": "ec7b8ca5",
   "metadata": {},
   "outputs": [
    {
     "data": {
      "text/plain": [
       "False"
      ]
     },
     "execution_count": 55,
     "metadata": {},
     "output_type": "execute_result"
    }
   ],
   "source": [
    "a.issubset(b)"
   ]
  },
  {
   "cell_type": "code",
   "execution_count": 56,
   "id": "79ba088c",
   "metadata": {},
   "outputs": [],
   "source": [
    "c = {1,2}"
   ]
  },
  {
   "cell_type": "code",
   "execution_count": 57,
   "id": "5b235491",
   "metadata": {},
   "outputs": [
    {
     "data": {
      "text/plain": [
       "True"
      ]
     },
     "execution_count": 57,
     "metadata": {},
     "output_type": "execute_result"
    }
   ],
   "source": [
    "c.issubset(a)"
   ]
  },
  {
   "cell_type": "code",
   "execution_count": null,
   "id": "90a835a9",
   "metadata": {},
   "outputs": [],
   "source": []
  }
 ],
 "metadata": {
  "kernelspec": {
   "display_name": "Python 3 (ipykernel)",
   "language": "python",
   "name": "python3"
  },
  "language_info": {
   "codemirror_mode": {
    "name": "ipython",
    "version": 3
   },
   "file_extension": ".py",
   "mimetype": "text/x-python",
   "name": "python",
   "nbconvert_exporter": "python",
   "pygments_lexer": "ipython3",
   "version": "3.10.10"
  }
 },
 "nbformat": 4,
 "nbformat_minor": 5
}
