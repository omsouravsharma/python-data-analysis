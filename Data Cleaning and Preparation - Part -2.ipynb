{
 "cells": [
  {
   "cell_type": "markdown",
   "id": "bc1a257d",
   "metadata": {},
   "source": [
    "## String Manipulation"
   ]
  },
  {
   "cell_type": "code",
   "execution_count": 1,
   "id": "9974940c",
   "metadata": {},
   "outputs": [
    {
     "data": {
      "text/plain": [
       "'a,b, guido'"
      ]
     },
     "execution_count": 1,
     "metadata": {},
     "output_type": "execute_result"
    }
   ],
   "source": [
    "val = \"a,b, guido\"\n",
    "val"
   ]
  },
  {
   "cell_type": "code",
   "execution_count": 2,
   "id": "3dab0bf4",
   "metadata": {},
   "outputs": [
    {
     "data": {
      "text/plain": [
       "['a', 'b', ' guido']"
      ]
     },
     "execution_count": 2,
     "metadata": {},
     "output_type": "execute_result"
    }
   ],
   "source": [
    "val.split(\",\")"
   ]
  },
  {
   "cell_type": "code",
   "execution_count": 5,
   "id": "476efb31",
   "metadata": {},
   "outputs": [
    {
     "data": {
      "text/plain": [
       "['a', 'b', 'guido']"
      ]
     },
     "execution_count": 5,
     "metadata": {},
     "output_type": "execute_result"
    }
   ],
   "source": [
    "sub = [x.strip() for x in val.split(\",\")]\n",
    "sub"
   ]
  },
  {
   "cell_type": "code",
   "execution_count": 6,
   "id": "88fc8108",
   "metadata": {},
   "outputs": [],
   "source": [
    "a, b, c, = sub"
   ]
  },
  {
   "cell_type": "code",
   "execution_count": 8,
   "id": "ca560bf9",
   "metadata": {},
   "outputs": [
    {
     "data": {
      "text/plain": [
       "'a::b::guido'"
      ]
     },
     "execution_count": 8,
     "metadata": {},
     "output_type": "execute_result"
    }
   ],
   "source": [
    "a+ \"::\" + b+\"::\"+c"
   ]
  },
  {
   "cell_type": "code",
   "execution_count": null,
   "id": "81f1b461",
   "metadata": {},
   "outputs": [],
   "source": [
    "# detect a substring \n"
   ]
  }
 ],
 "metadata": {
  "kernelspec": {
   "display_name": "Python 3 (ipykernel)",
   "language": "python",
   "name": "python3"
  },
  "language_info": {
   "codemirror_mode": {
    "name": "ipython",
    "version": 3
   },
   "file_extension": ".py",
   "mimetype": "text/x-python",
   "name": "python",
   "nbconvert_exporter": "python",
   "pygments_lexer": "ipython3",
   "version": "3.10.10"
  }
 },
 "nbformat": 4,
 "nbformat_minor": 5
}
